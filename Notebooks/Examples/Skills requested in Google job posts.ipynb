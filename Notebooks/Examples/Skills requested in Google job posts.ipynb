{
 "cells": [
  {
   "cell_type": "markdown",
   "metadata": {},
   "source": [
    "# Skills requested in Google job posts\n",
    "\n",
    "## Miguel Ángel Canela, IESE Business School\n",
    "\n",
    "******\n",
    "\n",
    "\n",
    "###  Introduction\n",
    "\n",
    "Which **language, skills, and experience** should we add to our toolbox for getting a job in Google? Since Google publishes all of their jobs at `careers.google.com`, Niyamat Ullah scraped all of the job data from that site by going through every job page using a tool called **Selenium**, taking only the job title, location, responsibilities, minimum and preferred qualifications.\n",
    "\n",
    "The data set, available in the Kaggle website, contains posts for 1,250 jobs. The variables are:\n",
    "\n",
    "* `company`: either Google or Youtube.\n",
    "\n",
    "* `title`: the title of the job.\n",
    "\n",
    "* `category`: the category of the job.\n",
    "\n",
    "* `location`: the location of the job.\n",
    "\n",
    "* `responsibilities`: the responsibilities for the job.\n",
    "\n",
    "* `minqual`: the minimum qualifications for the job.\n",
    "\n",
    "* `prefqual`: the preferred qualifications for the job.\n",
    "\n",
    "### Importing the data\n",
    "\n",
    "I import the data from a remote CSV file. The encoding is typically specified for files that contain text, to prevent problems with systems that do not use UTF-8 (like Windows). This is probably not needed here, but it may save trouble in other cases."
   ]
  },
  {
   "cell_type": "code",
   "execution_count": 1,
   "metadata": {},
   "outputs": [],
   "source": [
    "import pandas as pd\n",
    "fname = 'https://raw.githubusercontent.com/mcanela-iese/ML_Course/master/Data/' \\\n",
    "    'skills_google.csv'\n",
    "df = pd.read_csv(fname, encoding='utf-8')"
   ]
  },
  {
   "cell_type": "markdown",
   "metadata": {},
   "source": [
    "As usual, I check that the content of the file is what I expected."
   ]
  },
  {
   "cell_type": "code",
   "execution_count": 2,
   "metadata": {},
   "outputs": [
    {
     "name": "stdout",
     "output_type": "stream",
     "text": [
      "<class 'pandas.core.frame.DataFrame'>\n",
      "RangeIndex: 1250 entries, 0 to 1249\n",
      "Data columns (total 7 columns):\n",
      "company             1250 non-null object\n",
      "title               1250 non-null object\n",
      "category            1250 non-null object\n",
      "location            1250 non-null object\n",
      "responsibilities    1235 non-null object\n",
      "minqual             1236 non-null object\n",
      "prefqual            1236 non-null object\n",
      "dtypes: object(7)\n",
      "memory usage: 68.4+ KB\n"
     ]
    }
   ],
   "source": [
    "df.info()"
   ]
  },
  {
   "cell_type": "markdown",
   "metadata": {},
   "source": [
    "### Exploring the company\n",
    "\n",
    "I start my exploratory analysis by counting the occurrences of the unique values of `company`. In most of the jobs, the company is Google."
   ]
  },
  {
   "cell_type": "code",
   "execution_count": 3,
   "metadata": {},
   "outputs": [
    {
     "data": {
      "text/plain": [
       "Google     1227\n",
       "YouTube      23\n",
       "Name: company, dtype: int64"
      ]
     },
     "execution_count": 3,
     "metadata": {},
     "output_type": "execute_result"
    }
   ],
   "source": [
    "df['company'].value_counts()"
   ]
  },
  {
   "cell_type": "markdown",
   "metadata": {},
   "source": [
    "### Exploring the job titles\n",
    "\n",
    "There are 794 different job titles included in the data set."
   ]
  },
  {
   "cell_type": "code",
   "execution_count": 4,
   "metadata": {},
   "outputs": [
    {
     "data": {
      "text/plain": [
       "(794,)"
      ]
     },
     "execution_count": 4,
     "metadata": {},
     "output_type": "execute_result"
    }
   ],
   "source": [
    "title = df['title']\n",
    "title.unique().shape"
   ]
  },
  {
   "cell_type": "markdown",
   "metadata": {},
   "source": [
    "I extract the top-10 titles."
   ]
  },
  {
   "cell_type": "code",
   "execution_count": 5,
   "metadata": {},
   "outputs": [
    {
     "data": {
      "text/plain": [
       "Business Intern 2018                          35\n",
       "MBA Intern, Summer 2018                       34\n",
       "MBA Intern 2018                               28\n",
       "BOLD Intern, Summer 2018                      21\n",
       "Field Sales Representative, Google Cloud      17\n",
       "Interaction Designer                          12\n",
       "User Experience Researcher                     9\n",
       "User Experience Design Intern, Summer 2018     7\n",
       "Partner Sales Engineer, Google Cloud           7\n",
       "Recruiter                                      7\n",
       "Name: title, dtype: int64"
      ]
     },
     "execution_count": 5,
     "metadata": {},
     "output_type": "execute_result"
    }
   ],
   "source": [
    "title.value_counts()[:10]"
   ]
  },
  {
   "cell_type": "markdown",
   "metadata": {},
   "source": [
    "The internships seem to dominate the picture, but, with 794 different titles, this quick view could be misleading. So, I check other possibilities. "
   ]
  },
  {
   "cell_type": "code",
   "execution_count": 6,
   "metadata": {},
   "outputs": [
    {
     "data": {
      "text/plain": [
       "187"
      ]
     },
     "execution_count": 6,
     "metadata": {},
     "output_type": "execute_result"
    }
   ],
   "source": [
    "title.str.contains(pat='Intern').sum()"
   ]
  },
  {
   "cell_type": "code",
   "execution_count": 7,
   "metadata": {},
   "outputs": [
    {
     "data": {
      "text/plain": [
       "135"
      ]
     },
     "execution_count": 7,
     "metadata": {},
     "output_type": "execute_result"
    }
   ],
   "source": [
    "title.str.contains(pat='Sales').sum()"
   ]
  },
  {
   "cell_type": "code",
   "execution_count": 8,
   "metadata": {},
   "outputs": [
    {
     "data": {
      "text/plain": [
       "277"
      ]
     },
     "execution_count": 8,
     "metadata": {},
     "output_type": "execute_result"
    }
   ],
   "source": [
    "title.str.contains(pat='Cloud').sum()"
   ]
  },
  {
   "cell_type": "code",
   "execution_count": 9,
   "metadata": {},
   "outputs": [
    {
     "data": {
      "text/plain": [
       "259"
      ]
     },
     "execution_count": 9,
     "metadata": {},
     "output_type": "execute_result"
    }
   ],
   "source": [
    "title.str.contains(pat='Google Cloud').sum()"
   ]
  },
  {
   "cell_type": "markdown",
   "metadata": {},
   "source": [
    "This analysis shows that, looking at the titles themselves, we lose the focus. It is more interesting to look at the occurrence of key words. So far, the cloud looks like the main one. \n",
    "\n",
    "To proceed more systematically, I am going to extract a list of most frequent tokens. Previous to the extraction, I clean the data deleting all the expressions within parentheses. To get that, I use the function `str.replace`, which has two arguments, the **pattern** to replace (`pat`) and the **replacement** (`repl`). \n",
    "\n",
    "For the pattern, we can use a **regular expression**. In this case, I set `pat=' [(].+[)]'`. Let me provide some technical detail to make it more palatable: \n",
    "\n",
    "1. In a regular expression, the parentheses are used for grouping pieces of text. To refer to the parentheses temselves, I use the square brackets.\n",
    "\n",
    "2. The dot (.) stands for any character.\n",
    "\n",
    "3. The plus symbol (+) is a **quantifier**, meaning any number of occurrences."
   ]
  },
  {
   "cell_type": "code",
   "execution_count": 10,
   "metadata": {},
   "outputs": [],
   "source": [
    "title = title.str.replace(pat=' [(].+[)]', repl='')"
   ]
  },
  {
   "cell_type": "markdown",
   "metadata": {},
   "source": [
    "Next, I am going split the composite titles, which have two parts separated by a comma. I will use the function `str.split`, which takes as the argument the pattern that separates the pieces (`pat`). As shown by the following line of code, this function returns a series whose terms are lists of different lengths, which makes it difficult to manage. "
   ]
  },
  {
   "cell_type": "code",
   "execution_count": 11,
   "metadata": {},
   "outputs": [
    {
     "data": {
      "text/plain": [
       "0                       [Google Cloud Program Manager]\n",
       "1     [Supplier Development Engineer, Cable/Connector]\n",
       "2    [Data Analyst, Product and Tools Operations, G...\n",
       "3            [Developer Advocate, Partner Engineering]\n",
       "4          [Program Manager, Audio Visual Deployments]\n",
       "Name: title, dtype: object"
      ]
     },
     "execution_count": 11,
     "metadata": {},
     "output_type": "execute_result"
    }
   ],
   "source": [
    "title.str.split(pat=', ').head()"
   ]
  },
  {
   "cell_type": "markdown",
   "metadata": {},
   "source": [
    "I need a workaround to get a series whose terms are single strings. First, I transform the series returned by `str.split` into a list. "
   ]
  },
  {
   "cell_type": "code",
   "execution_count": 12,
   "metadata": {},
   "outputs": [
    {
     "data": {
      "text/plain": [
       "[['Google Cloud Program Manager'],\n",
       " ['Supplier Development Engineer', 'Cable/Connector'],\n",
       " ['Data Analyst', 'Product and Tools Operations', 'Google Technical Services'],\n",
       " ['Developer Advocate', 'Partner Engineering'],\n",
       " ['Program Manager', 'Audio Visual Deployments']]"
      ]
     },
     "execution_count": 12,
     "metadata": {},
     "output_type": "execute_result"
    }
   ],
   "source": [
    "L = list(title.str.split(pat=', '))\n",
    "L[:5]"
   ]
  },
  {
   "cell_type": "markdown",
   "metadata": {},
   "source": [
    "Now, I flatten the list `L` so that its terms are singkle strings."
   ]
  },
  {
   "cell_type": "code",
   "execution_count": 13,
   "metadata": {},
   "outputs": [
    {
     "data": {
      "text/plain": [
       "['Google Cloud Program Manager',\n",
       " 'Supplier Development Engineer',\n",
       " 'Cable/Connector',\n",
       " 'Data Analyst',\n",
       " 'Product and Tools Operations']"
      ]
     },
     "execution_count": 13,
     "metadata": {},
     "output_type": "execute_result"
    }
   ],
   "source": [
    "title = L[0]\n",
    "for x in L[1:]:\n",
    "    title = title + x\n",
    "title[:5]"
   ]
  },
  {
   "cell_type": "markdown",
   "metadata": {},
   "source": [
    "Now, `title` is a list of 2,353 job titles."
   ]
  },
  {
   "cell_type": "code",
   "execution_count": 14,
   "metadata": {},
   "outputs": [
    {
     "data": {
      "text/plain": [
       "2353"
      ]
     },
     "execution_count": 14,
     "metadata": {},
     "output_type": "execute_result"
    }
   ],
   "source": [
    "len(title)"
   ]
  },
  {
   "cell_type": "markdown",
   "metadata": {},
   "source": [
    "Finally, I transform `title` into a Pandas series, to be able to use the function `value_counts`. "
   ]
  },
  {
   "cell_type": "code",
   "execution_count": 15,
   "metadata": {},
   "outputs": [
    {
     "data": {
      "text/plain": [
       "Google Cloud                  206\n",
       "Summer 2018                    76\n",
       "Business Intern 2018           51\n",
       "MBA Intern                     34\n",
       "MBA Intern 2018                32\n",
       "Google Technical Services      31\n",
       "Consumer Hardware              27\n",
       "Field Sales Representative     26\n",
       "Google Cloud Platform          25\n",
       "Product Marketing Manager      23\n",
       "dtype: int64"
      ]
     },
     "execution_count": 15,
     "metadata": {},
     "output_type": "execute_result"
    }
   ],
   "source": [
    "pd.Series(title).value_counts()[:10]"
   ]
  },
  {
   "cell_type": "markdown",
   "metadata": {},
   "source": [
    "What do we get, at the end of the day? That most of the jobs are for Google Cloud or for interns. The sales jobs seem to be very scattered, with many different title definitions."
   ]
  },
  {
   "cell_type": "markdown",
   "metadata": {},
   "source": [
    "### Exploring categories\n",
    "\n",
    "I follow the same approach for categories. The conclusion, here, is that technical jobs are a minority."
   ]
  },
  {
   "cell_type": "code",
   "execution_count": 16,
   "metadata": {},
   "outputs": [
    {
     "data": {
      "text/plain": [
       "Sales & Account Management      168\n",
       "Marketing & Communications      165\n",
       "Finance                         115\n",
       "Technical Solutions             101\n",
       "Business Strategy                98\n",
       "People Operations                86\n",
       "User Experience & Design         84\n",
       "Program Management               74\n",
       "Partnerships                     60\n",
       "Product & Customer Support       50\n",
       "Legal & Government Relations     46\n",
       "Administrative                   40\n",
       "Sales Operations                 31\n",
       "Software Engineering             31\n",
       "Hardware Engineering             26\n",
       "Name: category, dtype: int64"
      ]
     },
     "execution_count": 16,
     "metadata": {},
     "output_type": "execute_result"
    }
   ],
   "source": [
    "df['category'].value_counts()[:15]"
   ]
  },
  {
   "cell_type": "markdown",
   "metadata": {},
   "source": [
    "### Exploring countries\n",
    "\n",
    "To learn in which countries the posts are located, I extract the country from the location. The location has two or three components, separated by the string formed by a comma followed by a white space (', '). "
   ]
  },
  {
   "cell_type": "code",
   "execution_count": 17,
   "metadata": {},
   "outputs": [
    {
     "data": {
      "text/plain": [
       "0                           Singapore\n",
       "1                     Shanghai, China\n",
       "2         New York, NY, United States\n",
       "3    Mountain View, CA, United States\n",
       "4        Sunnyvale, CA, United States\n",
       "Name: location, dtype: object"
      ]
     },
     "execution_count": 17,
     "metadata": {},
     "output_type": "execute_result"
    }
   ],
   "source": [
    "country = df['location']\n",
    "country.head()"
   ]
  },
  {
   "cell_type": "markdown",
   "metadata": {},
   "source": [
    "So I have to drop all the characters that come before the last occurrence of that string. I use the function `str.replace` and, as pattern, a regular expression which stands for all the strings to be suppressed, that is, for any string ending by a comma followed by white space."
   ]
  },
  {
   "cell_type": "code",
   "execution_count": 18,
   "metadata": {},
   "outputs": [],
   "source": [
    "country = country.str.replace(pat='.+, ', repl='')"
   ]
  },
  {
   "cell_type": "markdown",
   "metadata": {},
   "source": [
    "There are 49 unique values but, as we see next, most of the job requests are for United States."
   ]
  },
  {
   "cell_type": "code",
   "execution_count": 19,
   "metadata": {},
   "outputs": [
    {
     "data": {
      "text/plain": [
       "(49,)"
      ]
     },
     "execution_count": 19,
     "metadata": {},
     "output_type": "execute_result"
    }
   ],
   "source": [
    "country.unique().shape"
   ]
  },
  {
   "cell_type": "code",
   "execution_count": 20,
   "metadata": {},
   "outputs": [
    {
     "data": {
      "text/plain": [
       "United States     638\n",
       "Ireland            87\n",
       "United Kingdom     62\n",
       "Germany            54\n",
       "Singapore          41\n",
       "China              38\n",
       "Australia          35\n",
       "Japan              31\n",
       "Taiwan             30\n",
       "India              28\n",
       "Name: location, dtype: int64"
      ]
     },
     "execution_count": 20,
     "metadata": {},
     "output_type": "execute_result"
    }
   ],
   "source": [
    "country.value_counts()[:10]"
   ]
  },
  {
   "cell_type": "markdown",
   "metadata": {},
   "source": [
    "### Exploring responsibilities\n",
    "\n",
    "Now I explore the content of the responsibilities column, which has **missing values**. To check this, I apply the function `isna`. Note that this function returns a Boolean series, which is coerced to a numeric series when we we perform any calculation."
   ]
  },
  {
   "cell_type": "code",
   "execution_count": 21,
   "metadata": {},
   "outputs": [
    {
     "data": {
      "text/plain": [
       "15"
      ]
     },
     "execution_count": 21,
     "metadata": {},
     "output_type": "execute_result"
    }
   ],
   "source": [
    "resp = df['responsibilities']\n",
    "resp.isna().sum()"
   ]
  },
  {
   "cell_type": "code",
   "execution_count": 22,
   "metadata": {},
   "outputs": [],
   "source": [
    "resp = resp.dropna()"
   ]
  },
  {
   "cell_type": "markdown",
   "metadata": {},
   "source": [
    "Next, I put everything in **lowercase** with the function `str.lower`."
   ]
  },
  {
   "cell_type": "code",
   "execution_count": 23,
   "metadata": {},
   "outputs": [],
   "source": [
    "resp = resp.str.lower()"
   ]
  },
  {
   "cell_type": "markdown",
   "metadata": {},
   "source": [
    "Let us see how the text looks like."
   ]
  },
  {
   "cell_type": "code",
   "execution_count": 24,
   "metadata": {},
   "outputs": [
    {
     "data": {
      "text/plain": [
       "'shape, shepherd, ship, and show technical programs designed to support the work of cloud customer engineers and solutions architects.\\nmeasure and report on key metrics tied to those programs to identify any need to change course, cancel, or scale the programs from a regional to global platform.\\ncommunicate status and identify any obstacles and paths for resolution to stakeholders, including those in senior roles, in a transparent, regular, professional and timely manner.\\nestablish expectations and rationale on deliverables for stakeholders and program contributors.\\nprovide program performance feedback to teams in product, engineering, sales, and marketing (among others) to enable efficient cross-team operations.'"
      ]
     },
     "execution_count": 24,
     "metadata": {},
     "output_type": "execute_result"
    }
   ],
   "source": [
    "resp.iloc[0]"
   ]
  },
  {
   "cell_type": "markdown",
   "metadata": {},
   "source": [
    "Next, I extract the words from the text. This will leave out **punctuation** and the **control character** '\\n', which means new line, and is used to separate paragraphs. I use a regular expression that stands for any word with the function `str.findall`, which returns a data frame whose elements are lists of different lengths. Each of these lists is a **bag of words**. To collect all the words together in a single list, I use a workaround, similar to that used for the job titles. "
   ]
  },
  {
   "cell_type": "code",
   "execution_count": 25,
   "metadata": {},
   "outputs": [
    {
     "data": {
      "text/plain": [
       "0    [shape, shepherd, ship, and, show, technical, ...\n",
       "1    [drive, cross, functional, activities, in, the...\n",
       "2    [collect, and, analyze, data, to, draw, insigh...\n",
       "3    [work, one, on, one, with, the, top, android, ...\n",
       "4    [plan, requirements, with, internal, customers...\n",
       "Name: responsibilities, dtype: object"
      ]
     },
     "execution_count": 25,
     "metadata": {},
     "output_type": "execute_result"
    }
   ],
   "source": [
    "L = resp.str.findall(pat='[a-z]+')\n",
    "L[:5]"
   ]
  },
  {
   "cell_type": "code",
   "execution_count": 26,
   "metadata": {},
   "outputs": [
    {
     "data": {
      "text/plain": [
       "['shape', 'shepherd', 'ship', 'and', 'show']"
      ]
     },
     "execution_count": 26,
     "metadata": {},
     "output_type": "execute_result"
    }
   ],
   "source": [
    "resp = L[0]\n",
    "for x in L[1:]:\n",
    "    resp = resp + x\n",
    "resp[:5]"
   ]
  },
  {
   "cell_type": "markdown",
   "metadata": {},
   "source": [
    "Now, `resp` is a list of 109,545 terms."
   ]
  },
  {
   "cell_type": "code",
   "execution_count": 27,
   "metadata": {},
   "outputs": [
    {
     "data": {
      "text/plain": [
       "109745"
      ]
     },
     "execution_count": 27,
     "metadata": {},
     "output_type": "execute_result"
    }
   ],
   "source": [
    "len(resp)"
   ]
  },
  {
   "cell_type": "markdown",
   "metadata": {},
   "source": [
    "By transforming `resp` into a Pandas series, I can use `value_counts`. "
   ]
  },
  {
   "cell_type": "code",
   "execution_count": 28,
   "metadata": {},
   "outputs": [
    {
     "data": {
      "text/plain": [
       "and          9457\n",
       "to           4303\n",
       "the          2668\n",
       "of           2233\n",
       "with         2182\n",
       "for          1372\n",
       "google       1292\n",
       "in           1247\n",
       "business     1218\n",
       "a            1185\n",
       "product       968\n",
       "on            870\n",
       "develop       779\n",
       "teams         768\n",
       "work          755\n",
       "as            712\n",
       "team          660\n",
       "partners      633\n",
       "technical     606\n",
       "manage        596\n",
       "customer      561\n",
       "our           536\n",
       "that          517\n",
       "partner       516\n",
       "support       489\n",
       "dtype: int64"
      ]
     },
     "execution_count": 28,
     "metadata": {},
     "output_type": "execute_result"
    }
   ],
   "source": [
    "pd.Series(resp).value_counts()[:25]"
   ]
  },
  {
   "cell_type": "markdown",
   "metadata": {},
   "source": [
    "Most of these terms are **stopwords**, that is, words that do not contain relevant information (and, to, the, etc). Others, like 'Google', do not provide information in the context of this analysis. The leading topics seem to be development, teams and partners. To get a better picture, I should continue the analysis by dropping the stopwords and merging **synonyms** (such as \"team\" and \"teams\"). But I stop here, to make it short.\n",
    "\n",
    "### Exploring minimum qualifications\n",
    "\n",
    "The analysis of the minimum qualifications follows the same lines."
   ]
  },
  {
   "cell_type": "code",
   "execution_count": 29,
   "metadata": {},
   "outputs": [
    {
     "data": {
      "text/plain": [
       "14"
      ]
     },
     "execution_count": 29,
     "metadata": {},
     "output_type": "execute_result"
    }
   ],
   "source": [
    "minqual = df['minqual']\n",
    "minqual.isna().sum()"
   ]
  },
  {
   "cell_type": "code",
   "execution_count": 30,
   "metadata": {},
   "outputs": [
    {
     "data": {
      "text/plain": [
       "'ba/bs degree or equivalent practical experience.\\n3 years of experience in program and/or project management in cloud computing, enterprise software and/or marketing technologies.'"
      ]
     },
     "execution_count": 30,
     "metadata": {},
     "output_type": "execute_result"
    }
   ],
   "source": [
    "minqual = minqual.dropna()\n",
    "minqual = minqual.str.lower()\n",
    "minqual.iloc[0]"
   ]
  },
  {
   "cell_type": "code",
   "execution_count": 31,
   "metadata": {},
   "outputs": [
    {
     "data": {
      "text/plain": [
       "0    [ba, bs, degree, or, equivalent, practical, ex...\n",
       "1    [bs, degree, in, an, engineering, discipline, ...\n",
       "2    [bachelor, s, degree, in, business, economics,...\n",
       "3    [ba, bs, degree, in, computer, science, or, eq...\n",
       "4    [ba, bs, degree, or, equivalent, practical, ex...\n",
       "Name: minqual, dtype: object"
      ]
     },
     "execution_count": 31,
     "metadata": {},
     "output_type": "execute_result"
    }
   ],
   "source": [
    "L = minqual.str.findall(pat='[a-z]+')\n",
    "L[:5]"
   ]
  },
  {
   "cell_type": "code",
   "execution_count": 32,
   "metadata": {},
   "outputs": [
    {
     "data": {
      "text/plain": [
       "['ba', 'bs', 'degree', 'or', 'equivalent']"
      ]
     },
     "execution_count": 32,
     "metadata": {},
     "output_type": "execute_result"
    }
   ],
   "source": [
    "minqual = L[0]\n",
    "for x in L[1:]:\n",
    "    minqual = minqual + x\n",
    "minqual[:5]"
   ]
  },
  {
   "cell_type": "code",
   "execution_count": 33,
   "metadata": {},
   "outputs": [
    {
     "data": {
      "text/plain": [
       "46929"
      ]
     },
     "execution_count": 33,
     "metadata": {},
     "output_type": "execute_result"
    }
   ],
   "source": [
    "len(minqual)"
   ]
  },
  {
   "cell_type": "code",
   "execution_count": 34,
   "metadata": {},
   "outputs": [
    {
     "data": {
      "text/plain": [
       "experience    3036\n",
       "or            2478\n",
       "in            2400\n",
       "and           2304\n",
       "a             1231\n",
       "of            1110\n",
       "equivalent    1063\n",
       "degree        1059\n",
       "practical      993\n",
       "to             928\n",
       "bs             879\n",
       "ba             838\n",
       "years          722\n",
       "with           718\n",
       "the            611\n",
       "management     413\n",
       "ability        363\n",
       "field          341\n",
       "related        321\n",
       "working        313\n",
       "program        305\n",
       "as             292\n",
       "english        286\n",
       "speak          281\n",
       "fluently       280\n",
       "dtype: int64"
      ]
     },
     "execution_count": 34,
     "metadata": {},
     "output_type": "execute_result"
    }
   ],
   "source": [
    "pd.Series(minqual).value_counts()[:25]"
   ]
  },
  {
   "cell_type": "markdown",
   "metadata": {},
   "source": [
    "Bad news here for the starters, experience is the main thing. I check how often are mentioned the leading programming languages. Not much."
   ]
  },
  {
   "cell_type": "code",
   "execution_count": 35,
   "metadata": {},
   "outputs": [
    {
     "data": {
      "text/plain": [
       "85"
      ]
     },
     "execution_count": 35,
     "metadata": {},
     "output_type": "execute_result"
    }
   ],
   "source": [
    "pd.Series(minqual).str.contains(pat='sql').sum()"
   ]
  },
  {
   "cell_type": "code",
   "execution_count": 36,
   "metadata": {},
   "outputs": [
    {
     "data": {
      "text/plain": [
       "77"
      ]
     },
     "execution_count": 36,
     "metadata": {},
     "output_type": "execute_result"
    }
   ],
   "source": [
    "pd.Series(minqual).str.contains(pat='javascript').sum()"
   ]
  },
  {
   "cell_type": "code",
   "execution_count": 37,
   "metadata": {},
   "outputs": [
    {
     "data": {
      "text/plain": [
       "97"
      ]
     },
     "execution_count": 37,
     "metadata": {},
     "output_type": "execute_result"
    }
   ],
   "source": [
    "pd.Series(minqual).str.contains(pat='python').sum()"
   ]
  },
  {
   "cell_type": "markdown",
   "metadata": {},
   "source": [
    "### Exploring preferred qualifications\n",
    "\n",
    "I replicate the analysis for the preferred qualifications."
   ]
  },
  {
   "cell_type": "code",
   "execution_count": 38,
   "metadata": {},
   "outputs": [
    {
     "data": {
      "text/plain": [
       "14"
      ]
     },
     "execution_count": 38,
     "metadata": {},
     "output_type": "execute_result"
    }
   ],
   "source": [
    "prefqual = df['prefqual']\n",
    "prefqual.isna().sum()"
   ]
  },
  {
   "cell_type": "code",
   "execution_count": 39,
   "metadata": {},
   "outputs": [
    {
     "data": {
      "text/plain": [
       "'experience in the business technology market as a program manager in saas, cloud computing, and/or emerging technologies.\\nsignificant cross-functional experience across engineering, sales, and marketing teams in cloud computing or related technical fields.\\nproven successful program outcomes from idea to launch in multiple contexts throughout your career.\\nability to manage the expectations, demands and priorities of multiple internal stakeholders based on overarching vision and success for global team health.\\nability to work under pressure and possess flexibility with changing needs and direction in a rapidly-growing organization.\\nstrong organization and communication skills.'"
      ]
     },
     "execution_count": 39,
     "metadata": {},
     "output_type": "execute_result"
    }
   ],
   "source": [
    "prefqual = prefqual.dropna()\n",
    "prefqual = prefqual.str.lower()\n",
    "prefqual.iloc[0]"
   ]
  },
  {
   "cell_type": "code",
   "execution_count": 40,
   "metadata": {},
   "outputs": [
    {
     "data": {
      "text/plain": [
       "0    [experience, in, the, business, technology, ma...\n",
       "1    [bsee, bsme, or, bsie, degree, experience, of,...\n",
       "2    [experience, partnering, or, consulting, cross...\n",
       "3    [experience, as, a, software, developer, archi...\n",
       "4    [cts, certification, experience, in, the, cons...\n",
       "Name: prefqual, dtype: object"
      ]
     },
     "execution_count": 40,
     "metadata": {},
     "output_type": "execute_result"
    }
   ],
   "source": [
    "L = prefqual.str.findall(pat='[a-z]+')\n",
    "L[:5]"
   ]
  },
  {
   "cell_type": "code",
   "execution_count": 41,
   "metadata": {},
   "outputs": [
    {
     "data": {
      "text/plain": [
       "['experience', 'in', 'the', 'business', 'technology']"
      ]
     },
     "execution_count": 41,
     "metadata": {},
     "output_type": "execute_result"
    }
   ],
   "source": [
    "prefqual = L[0]\n",
    "for x in L[1:]:\n",
    "    prefqual = prefqual + x\n",
    "prefqual[:5]"
   ]
  },
  {
   "cell_type": "code",
   "execution_count": 42,
   "metadata": {},
   "outputs": [
    {
     "data": {
      "text/plain": [
       "83850"
      ]
     },
     "execution_count": 42,
     "metadata": {},
     "output_type": "execute_result"
    }
   ],
   "source": [
    "len(prefqual)"
   ]
  },
  {
   "cell_type": "code",
   "execution_count": 43,
   "metadata": {},
   "outputs": [
    {
     "data": {
      "text/plain": [
       "and              6496\n",
       "to               2991\n",
       "in               2501\n",
       "with             2419\n",
       "experience       2308\n",
       "ability          1856\n",
       "of               1655\n",
       "a                1654\n",
       "skills           1461\n",
       "or               1432\n",
       "the              1379\n",
       "management        720\n",
       "business          680\n",
       "demonstrated      640\n",
       "as                582\n",
       "excellent         570\n",
       "work              549\n",
       "communication     546\n",
       "environment       520\n",
       "technical         476\n",
       "strong            472\n",
       "analytical        446\n",
       "working           440\n",
       "cloud             395\n",
       "data              394\n",
       "dtype: int64"
      ]
     },
     "execution_count": 43,
     "metadata": {},
     "output_type": "execute_result"
    }
   ],
   "source": [
    "pd.Series(prefqual).value_counts()[:25]"
   ]
  },
  {
   "cell_type": "code",
   "execution_count": 44,
   "metadata": {},
   "outputs": [
    {
     "data": {
      "text/plain": [
       "84"
      ]
     },
     "execution_count": 44,
     "metadata": {},
     "output_type": "execute_result"
    }
   ],
   "source": [
    "pd.Series(prefqual).str.contains(pat='sql').sum()"
   ]
  },
  {
   "cell_type": "code",
   "execution_count": 45,
   "metadata": {},
   "outputs": [
    {
     "data": {
      "text/plain": [
       "66"
      ]
     },
     "execution_count": 45,
     "metadata": {},
     "output_type": "execute_result"
    }
   ],
   "source": [
    "pd.Series(prefqual).str.contains(pat='javascript').sum()"
   ]
  },
  {
   "cell_type": "code",
   "execution_count": 46,
   "metadata": {},
   "outputs": [
    {
     "data": {
      "text/plain": [
       "79"
      ]
     },
     "execution_count": 46,
     "metadata": {},
     "output_type": "execute_result"
    }
   ],
   "source": [
    "pd.Series(prefqual).str.contains(pat='python').sum()"
   ]
  }
 ],
 "metadata": {
  "kernelspec": {
   "display_name": "Python 3",
   "language": "python",
   "name": "python3"
  },
  "language_info": {
   "codemirror_mode": {
    "name": "ipython",
    "version": 3
   },
   "file_extension": ".py",
   "mimetype": "text/x-python",
   "name": "python",
   "nbconvert_exporter": "python",
   "pygments_lexer": "ipython3",
   "version": "3.6.6"
  }
 },
 "nbformat": 4,
 "nbformat_minor": 2
}
