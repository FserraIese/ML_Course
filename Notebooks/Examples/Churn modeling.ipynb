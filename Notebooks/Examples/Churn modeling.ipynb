{
 "cells": [
  {
   "cell_type": "markdown",
   "metadata": {},
   "source": [
    "# Churn modeling\n",
    "\n",
    "## Miguel Ángel Canela, IESE Business School\n",
    "\n",
    "******\n",
    "\n",
    "### Introduction\n",
    "\n",
    "The term **churn** is used in marketing to refer to a customer leaving the company in favour of a competitor. Churning is a common concern of **Customer Relationship Management** (CRM). A key step in proactive churn management is to predict whether a customer is likely to churn, since an early detection of the potential churners helps to plan the retention campaigns.\n",
    "\n",
    "In this example, I develop a churn model, based on a **logistic regression equation**, for a company called *Omicron Mobile*, which provides mobile phone services. The data set is based on a random sample of 5,000 customers whose accounts were still alive by September 30, and have been monitored during the fourth quarter. 968 of those customers churned during the fourth quarter, a **churning rate** of 19.4%.\n",
    "\n",
    "The variables included in the data set are: \n",
    "\n",
    "* `id`, a customer ID (the phone number).\n",
    "\n",
    "* `aclentgh`, the number of days the account has been active at the beginning of the period monitored.\n",
    "\n",
    "* `intplan`, a dummy for having an international plan.\n",
    "\n",
    "* `dataplan`, a dummy for having a data plan.\n",
    "\n",
    "* `datagb`, the gigabytes available according to the data plan.\n",
    "\n",
    "* `ommin`, the total minutes call to any Omicron mobile phone number, voicemail or national landline.\n",
    "\n",
    "* `omcall`, the total number of calls to any Omicron mobile phone number, voicemail or national landline.\n",
    "\n",
    "* `otmin`, the total minutes call to other mobile networks.\n",
    "\n",
    "* `otcall`, the total number of calls to other networks.\n",
    "\n",
    "* `ngmin`, the total minutes call to nongeographic numbers. Nongeographic numbers, such as UK 0844 or 0871 numbers, are often helplines for organizations like banks, insurance companies, utilities and charities. \n",
    "\n",
    "* `ngcall`, the total number of calls to nongeographic numbers.\n",
    "\n",
    "* `imin`, the total minutes in international calls.\n",
    "\n",
    "* `icall`, the total international calls.\n",
    "\n",
    "* `cuscall`, the number of calls to customer service.\n",
    "\n",
    "* `churn`, a dummy for churning.\n",
    "\n",
    "All the data are from the third quarter except the last variable. \n",
    "\n",
    "### Importing the data\n",
    "\n",
    "The data come in a CSV file, which I import with the Pandas function `read_csv`. I include here an additional argument, `index_col=0`, for the first column to be used as the **index**."
   ]
  },
  {
   "cell_type": "code",
   "execution_count": 1,
   "metadata": {},
   "outputs": [],
   "source": [
    "import pandas as pd\n",
    "fname = 'https://raw.githubusercontent.com/mcanela-iese/ML_Course/master/Data/' \\\n",
    "    'churn.csv'\n",
    "df = pd.read_csv(fname, index_col=0)"
   ]
  },
  {
   "cell_type": "code",
   "execution_count": 2,
   "metadata": {},
   "outputs": [
    {
     "data": {
      "text/plain": [
       "Index(['409-8978', '444-7077', '401-9132', '409-2971', '431-5175', '375-5486',\n",
       "       '400-7151', '390-2169', '420-8569', '446-7327'],\n",
       "      dtype='object', name='id')"
      ]
     },
     "execution_count": 2,
     "metadata": {},
     "output_type": "execute_result"
    }
   ],
   "source": [
    "df.index[0:10]"
   ]
  },
  {
   "cell_type": "markdown",
   "metadata": {},
   "source": [
    "### Checking redundancy\n",
    "\n",
    "Note that `datagb` takes value `0` when `dataplan` takes value `0`, so we have redundancy in the data, as illustrated by the crosstabulation below. I will leave `dataplan` aside, as it is the same as one of the dummies that I will generate in order to enter `datagb` in the equation."
   ]
  },
  {
   "cell_type": "code",
   "execution_count": 3,
   "metadata": {},
   "outputs": [
    {
     "data": {
      "text/html": [
       "<div>\n",
       "<style scoped>\n",
       "    .dataframe tbody tr th:only-of-type {\n",
       "        vertical-align: middle;\n",
       "    }\n",
       "\n",
       "    .dataframe tbody tr th {\n",
       "        vertical-align: top;\n",
       "    }\n",
       "\n",
       "    .dataframe thead th {\n",
       "        text-align: right;\n",
       "    }\n",
       "</style>\n",
       "<table border=\"1\" class=\"dataframe\">\n",
       "  <thead>\n",
       "    <tr style=\"text-align: right;\">\n",
       "      <th>dataplan</th>\n",
       "      <th>0</th>\n",
       "      <th>1</th>\n",
       "    </tr>\n",
       "    <tr>\n",
       "      <th>datagb</th>\n",
       "      <th></th>\n",
       "      <th></th>\n",
       "    </tr>\n",
       "  </thead>\n",
       "  <tbody>\n",
       "    <tr>\n",
       "      <th>0</th>\n",
       "      <td>3449</td>\n",
       "      <td>0</td>\n",
       "    </tr>\n",
       "    <tr>\n",
       "      <th>1.5G</th>\n",
       "      <td>0</td>\n",
       "      <td>522</td>\n",
       "    </tr>\n",
       "    <tr>\n",
       "      <th>100M</th>\n",
       "      <td>0</td>\n",
       "      <td>74</td>\n",
       "    </tr>\n",
       "    <tr>\n",
       "      <th>1G</th>\n",
       "      <td>0</td>\n",
       "      <td>410</td>\n",
       "    </tr>\n",
       "    <tr>\n",
       "      <th>250M</th>\n",
       "      <td>0</td>\n",
       "      <td>168</td>\n",
       "    </tr>\n",
       "    <tr>\n",
       "      <th>2G</th>\n",
       "      <td>0</td>\n",
       "      <td>86</td>\n",
       "    </tr>\n",
       "    <tr>\n",
       "      <th>500M</th>\n",
       "      <td>0</td>\n",
       "      <td>291</td>\n",
       "    </tr>\n",
       "  </tbody>\n",
       "</table>\n",
       "</div>"
      ],
      "text/plain": [
       "dataplan     0    1\n",
       "datagb             \n",
       "0         3449    0\n",
       "1.5G         0  522\n",
       "100M         0   74\n",
       "1G           0  410\n",
       "250M         0  168\n",
       "2G           0   86\n",
       "500M         0  291"
      ]
     },
     "execution_count": 3,
     "metadata": {},
     "output_type": "execute_result"
    }
   ],
   "source": [
    "pd.crosstab(df['datagb'], df['dataplan'])"
   ]
  },
  {
   "cell_type": "markdown",
   "metadata": {},
   "source": [
    "### Logistic regression model\n",
    "\n",
    "I am going to use a classifier based on a **logistic regression** equation for churn prediction. I first specify the **target vector**."
   ]
  },
  {
   "cell_type": "code",
   "execution_count": 4,
   "metadata": {},
   "outputs": [],
   "source": [
    "y = df['churn']"
   ]
  },
  {
   "cell_type": "markdown",
   "metadata": {},
   "source": [
    "Since scikit-learn can only deal with numeric features, to build the features matrix I have to replace `datagb` by a collection of dummies. These dummies can be generated with the Pandas function `get_dummies`. "
   ]
  },
  {
   "cell_type": "code",
   "execution_count": 5,
   "metadata": {},
   "outputs": [
    {
     "data": {
      "text/html": [
       "<div>\n",
       "<style scoped>\n",
       "    .dataframe tbody tr th:only-of-type {\n",
       "        vertical-align: middle;\n",
       "    }\n",
       "\n",
       "    .dataframe tbody tr th {\n",
       "        vertical-align: top;\n",
       "    }\n",
       "\n",
       "    .dataframe thead th {\n",
       "        text-align: right;\n",
       "    }\n",
       "</style>\n",
       "<table border=\"1\" class=\"dataframe\">\n",
       "  <thead>\n",
       "    <tr style=\"text-align: right;\">\n",
       "      <th></th>\n",
       "      <th>0</th>\n",
       "      <th>1.5G</th>\n",
       "      <th>100M</th>\n",
       "      <th>1G</th>\n",
       "      <th>250M</th>\n",
       "      <th>2G</th>\n",
       "      <th>500M</th>\n",
       "    </tr>\n",
       "    <tr>\n",
       "      <th>id</th>\n",
       "      <th></th>\n",
       "      <th></th>\n",
       "      <th></th>\n",
       "      <th></th>\n",
       "      <th></th>\n",
       "      <th></th>\n",
       "      <th></th>\n",
       "    </tr>\n",
       "  </thead>\n",
       "  <tbody>\n",
       "    <tr>\n",
       "      <th>409-8978</th>\n",
       "      <td>1</td>\n",
       "      <td>0</td>\n",
       "      <td>0</td>\n",
       "      <td>0</td>\n",
       "      <td>0</td>\n",
       "      <td>0</td>\n",
       "      <td>0</td>\n",
       "    </tr>\n",
       "    <tr>\n",
       "      <th>444-7077</th>\n",
       "      <td>1</td>\n",
       "      <td>0</td>\n",
       "      <td>0</td>\n",
       "      <td>0</td>\n",
       "      <td>0</td>\n",
       "      <td>0</td>\n",
       "      <td>0</td>\n",
       "    </tr>\n",
       "    <tr>\n",
       "      <th>401-9132</th>\n",
       "      <td>0</td>\n",
       "      <td>1</td>\n",
       "      <td>0</td>\n",
       "      <td>0</td>\n",
       "      <td>0</td>\n",
       "      <td>0</td>\n",
       "      <td>0</td>\n",
       "    </tr>\n",
       "    <tr>\n",
       "      <th>409-2971</th>\n",
       "      <td>1</td>\n",
       "      <td>0</td>\n",
       "      <td>0</td>\n",
       "      <td>0</td>\n",
       "      <td>0</td>\n",
       "      <td>0</td>\n",
       "      <td>0</td>\n",
       "    </tr>\n",
       "    <tr>\n",
       "      <th>431-5175</th>\n",
       "      <td>0</td>\n",
       "      <td>1</td>\n",
       "      <td>0</td>\n",
       "      <td>0</td>\n",
       "      <td>0</td>\n",
       "      <td>0</td>\n",
       "      <td>0</td>\n",
       "    </tr>\n",
       "  </tbody>\n",
       "</table>\n",
       "</div>"
      ],
      "text/plain": [
       "          0  1.5G  100M  1G  250M  2G  500M\n",
       "id                                         \n",
       "409-8978  1     0     0   0     0   0     0\n",
       "444-7077  1     0     0   0     0   0     0\n",
       "401-9132  0     1     0   0     0   0     0\n",
       "409-2971  1     0     0   0     0   0     0\n",
       "431-5175  0     1     0   0     0   0     0"
      ]
     },
     "execution_count": 5,
     "metadata": {},
     "output_type": "execute_result"
    }
   ],
   "source": [
    "X1 = pd.get_dummies(df['datagb'])\n",
    "X1.head()"
   ]
  },
  {
   "cell_type": "markdown",
   "metadata": {},
   "source": [
    "*Note*. If you wish to do the job in scikit-learn, you will find many methods for encoding categorical features in the module `sklearn.preprocessing`.\n",
    "\n",
    "Next, I join this set of dummies to a data frame formed by the rest of the columns, with the Pandas function `concat` (this can also be done with the Numpy function `concatenate`, after converting `X1` and `X2` to arrays). The argument `axis=1` specifies that the two data frames are joined columnwise."
   ]
  },
  {
   "cell_type": "code",
   "execution_count": 6,
   "metadata": {},
   "outputs": [
    {
     "data": {
      "text/html": [
       "<div>\n",
       "<style scoped>\n",
       "    .dataframe tbody tr th:only-of-type {\n",
       "        vertical-align: middle;\n",
       "    }\n",
       "\n",
       "    .dataframe tbody tr th {\n",
       "        vertical-align: top;\n",
       "    }\n",
       "\n",
       "    .dataframe thead th {\n",
       "        text-align: right;\n",
       "    }\n",
       "</style>\n",
       "<table border=\"1\" class=\"dataframe\">\n",
       "  <thead>\n",
       "    <tr style=\"text-align: right;\">\n",
       "      <th></th>\n",
       "      <th>0</th>\n",
       "      <th>1.5G</th>\n",
       "      <th>100M</th>\n",
       "      <th>1G</th>\n",
       "      <th>250M</th>\n",
       "      <th>2G</th>\n",
       "      <th>500M</th>\n",
       "      <th>aclength</th>\n",
       "      <th>intplan</th>\n",
       "      <th>ommin</th>\n",
       "      <th>omcall</th>\n",
       "      <th>otmin</th>\n",
       "      <th>otcall</th>\n",
       "      <th>ngmin</th>\n",
       "      <th>ngcall</th>\n",
       "      <th>imin</th>\n",
       "      <th>icall</th>\n",
       "      <th>cuscall</th>\n",
       "    </tr>\n",
       "    <tr>\n",
       "      <th>id</th>\n",
       "      <th></th>\n",
       "      <th></th>\n",
       "      <th></th>\n",
       "      <th></th>\n",
       "      <th></th>\n",
       "      <th></th>\n",
       "      <th></th>\n",
       "      <th></th>\n",
       "      <th></th>\n",
       "      <th></th>\n",
       "      <th></th>\n",
       "      <th></th>\n",
       "      <th></th>\n",
       "      <th></th>\n",
       "      <th></th>\n",
       "      <th></th>\n",
       "      <th></th>\n",
       "      <th></th>\n",
       "    </tr>\n",
       "  </thead>\n",
       "  <tbody>\n",
       "    <tr>\n",
       "      <th>409-8978</th>\n",
       "      <td>1</td>\n",
       "      <td>0</td>\n",
       "      <td>0</td>\n",
       "      <td>0</td>\n",
       "      <td>0</td>\n",
       "      <td>0</td>\n",
       "      <td>0</td>\n",
       "      <td>77</td>\n",
       "      <td>0</td>\n",
       "      <td>80.8</td>\n",
       "      <td>70</td>\n",
       "      <td>165.9</td>\n",
       "      <td>67</td>\n",
       "      <td>18.6</td>\n",
       "      <td>6</td>\n",
       "      <td>9.5</td>\n",
       "      <td>4</td>\n",
       "      <td>1</td>\n",
       "    </tr>\n",
       "    <tr>\n",
       "      <th>444-7077</th>\n",
       "      <td>1</td>\n",
       "      <td>0</td>\n",
       "      <td>0</td>\n",
       "      <td>0</td>\n",
       "      <td>0</td>\n",
       "      <td>0</td>\n",
       "      <td>0</td>\n",
       "      <td>105</td>\n",
       "      <td>0</td>\n",
       "      <td>131.8</td>\n",
       "      <td>66</td>\n",
       "      <td>131.7</td>\n",
       "      <td>105</td>\n",
       "      <td>5.1</td>\n",
       "      <td>6</td>\n",
       "      <td>6.7</td>\n",
       "      <td>2</td>\n",
       "      <td>0</td>\n",
       "    </tr>\n",
       "    <tr>\n",
       "      <th>401-9132</th>\n",
       "      <td>0</td>\n",
       "      <td>1</td>\n",
       "      <td>0</td>\n",
       "      <td>0</td>\n",
       "      <td>0</td>\n",
       "      <td>0</td>\n",
       "      <td>0</td>\n",
       "      <td>121</td>\n",
       "      <td>0</td>\n",
       "      <td>212.1</td>\n",
       "      <td>57</td>\n",
       "      <td>195.4</td>\n",
       "      <td>140</td>\n",
       "      <td>14.9</td>\n",
       "      <td>14</td>\n",
       "      <td>28.6</td>\n",
       "      <td>8</td>\n",
       "      <td>1</td>\n",
       "    </tr>\n",
       "    <tr>\n",
       "      <th>409-2971</th>\n",
       "      <td>1</td>\n",
       "      <td>0</td>\n",
       "      <td>0</td>\n",
       "      <td>0</td>\n",
       "      <td>0</td>\n",
       "      <td>0</td>\n",
       "      <td>0</td>\n",
       "      <td>115</td>\n",
       "      <td>0</td>\n",
       "      <td>186.1</td>\n",
       "      <td>64</td>\n",
       "      <td>230.9</td>\n",
       "      <td>125</td>\n",
       "      <td>26.5</td>\n",
       "      <td>16</td>\n",
       "      <td>9.9</td>\n",
       "      <td>4</td>\n",
       "      <td>1</td>\n",
       "    </tr>\n",
       "    <tr>\n",
       "      <th>431-5175</th>\n",
       "      <td>0</td>\n",
       "      <td>1</td>\n",
       "      <td>0</td>\n",
       "      <td>0</td>\n",
       "      <td>0</td>\n",
       "      <td>0</td>\n",
       "      <td>0</td>\n",
       "      <td>133</td>\n",
       "      <td>0</td>\n",
       "      <td>166.5</td>\n",
       "      <td>61</td>\n",
       "      <td>176.0</td>\n",
       "      <td>74</td>\n",
       "      <td>36.1</td>\n",
       "      <td>11</td>\n",
       "      <td>5.3</td>\n",
       "      <td>2</td>\n",
       "      <td>1</td>\n",
       "    </tr>\n",
       "  </tbody>\n",
       "</table>\n",
       "</div>"
      ],
      "text/plain": [
       "          0  1.5G  100M  1G  250M  2G  500M  aclength  intplan  ommin  omcall  \\\n",
       "id                                                                              \n",
       "409-8978  1     0     0   0     0   0     0        77        0   80.8      70   \n",
       "444-7077  1     0     0   0     0   0     0       105        0  131.8      66   \n",
       "401-9132  0     1     0   0     0   0     0       121        0  212.1      57   \n",
       "409-2971  1     0     0   0     0   0     0       115        0  186.1      64   \n",
       "431-5175  0     1     0   0     0   0     0       133        0  166.5      61   \n",
       "\n",
       "          otmin  otcall  ngmin  ngcall  imin  icall  cuscall  \n",
       "id                                                            \n",
       "409-8978  165.9      67   18.6       6   9.5      4        1  \n",
       "444-7077  131.7     105    5.1       6   6.7      2        0  \n",
       "401-9132  195.4     140   14.9      14  28.6      8        1  \n",
       "409-2971  230.9     125   26.5      16   9.9      4        1  \n",
       "431-5175  176.0      74   36.1      11   5.3      2        1  "
      ]
     },
     "execution_count": 6,
     "metadata": {},
     "output_type": "execute_result"
    }
   ],
   "source": [
    "X2 = df[['aclength', 'intplan', 'ommin', 'omcall',\n",
    "  'otmin', 'otcall', 'ngmin', 'ngcall', 'imin', 'icall', 'cuscall']]\n",
    "X = pd.concat([X1, X2], axis=1)\n",
    "X.head()"
   ]
  },
  {
   "cell_type": "markdown",
   "metadata": {},
   "source": [
    "scikit-learn has a module called `linear_model`, with various regression and classification methods. I load only the method `LogisticRegression`, which I name `logclf`, to make it shorter. I use the default arguments, but look at the warning, discussed below."
   ]
  },
  {
   "cell_type": "code",
   "execution_count": 7,
   "metadata": {},
   "outputs": [
    {
     "name": "stderr",
     "output_type": "stream",
     "text": [
      "C:\\ProgramData\\Anaconda3\\lib\\site-packages\\sklearn\\linear_model\\logistic.py:432: FutureWarning: Default solver will be changed to 'lbfgs' in 0.22. Specify a solver to silence this warning.\n",
      "  FutureWarning)\n"
     ]
    },
    {
     "data": {
      "text/plain": [
       "LogisticRegression(C=1.0, class_weight=None, dual=False, fit_intercept=True,\n",
       "                   intercept_scaling=1, l1_ratio=None, max_iter=100,\n",
       "                   multi_class='warn', n_jobs=None, penalty='l2',\n",
       "                   random_state=None, solver='warn', tol=0.0001, verbose=0,\n",
       "                   warm_start=False)"
      ]
     },
     "execution_count": 7,
     "metadata": {},
     "output_type": "execute_result"
    }
   ],
   "source": [
    "from sklearn import linear_model\n",
    "logclf = linear_model.LogisticRegression()\n",
    "logclf.fit(X, y)"
   ]
  },
  {
   "cell_type": "markdown",
   "metadata": {},
   "source": [
    "I got a **warning** from Python this time. Note that a warning is not the same as an **error message**. The error message stops the execution of your command, but the warning does not. What happened? That sikit-learn people are changing the rules for this method. You will be soon expected to specify the optimization algorithm (the solver) that is used to obtain the optimal solution for the coefficients of the logistic regression equation. LBFGS is a variant of the **BFGS** method, which is a favorite of scientific programming, and the default in many places.\n",
    "\n",
    "*Note*. One of the dummies associated to `datagb` is superfluous, because it is linearly related to the other dummies (the sum of the dummies is equal to 1). You do not have to worry, Python takes care of that.\n",
    "\n",
    "### Predictive scores\n",
    "\n",
    "The method `predict`, which I have already used for the class `LinearRegression`, returns **class labels** (1/0). Since in this example I am interested in discussing the predictive scores, I leave this for the homework. To get the **scores**, I use `predict_proba`, which returns an array with two columns, containing a score for class 1 and a score for class 0, summing 1."
   ]
  },
  {
   "cell_type": "code",
   "execution_count": 8,
   "metadata": {},
   "outputs": [
    {
     "data": {
      "text/plain": [
       "array([[0.94830219, 0.05169781],\n",
       "       [0.96644987, 0.03355013],\n",
       "       [0.74421866, 0.25578134],\n",
       "       [0.87147019, 0.12852981],\n",
       "       [0.92741928, 0.07258072]])"
      ]
     },
     "execution_count": 8,
     "metadata": {},
     "output_type": "execute_result"
    }
   ],
   "source": [
    "scores = logclf.predict_proba(X)\n",
    "scores[0:5, 0:5]"
   ]
  },
  {
   "cell_type": "markdown",
   "metadata": {},
   "source": [
    "I incorporate the second column of `scores` to the current data frame, so I can manage this easily with Pandas. This column contains the scores for the positive category (in alphabetical order 0 comes first and 1 comes second)."
   ]
  },
  {
   "cell_type": "code",
   "execution_count": 9,
   "metadata": {},
   "outputs": [],
   "source": [
    "df['churn_score'] = scores[:, 1]"
   ]
  },
  {
   "cell_type": "markdown",
   "metadata": {},
   "source": [
    "The predictive score can be interpreted as the propensity to churn. Reading it so, it would be natural to set the **cutoff** for classification at 0.5 (that is how `predict` gets the class labels). "
   ]
  },
  {
   "cell_type": "markdown",
   "metadata": {},
   "source": [
    "Anyway, I start with cutoff 0.5. The predicted class is obtained as"
   ]
  },
  {
   "cell_type": "code",
   "execution_count": 10,
   "metadata": {},
   "outputs": [],
   "source": [
    "df['churn_pred'] = (df['churn_score'] > 0.5).astype(int) "
   ]
  },
  {
   "cell_type": "markdown",
   "metadata": {},
   "source": [
    "Note that the expression in parenthesis creates a boolean series, which I have converted to a dummy. The last three columns of the data frame look like:"
   ]
  },
  {
   "cell_type": "code",
   "execution_count": 11,
   "metadata": {},
   "outputs": [
    {
     "data": {
      "text/html": [
       "<div>\n",
       "<style scoped>\n",
       "    .dataframe tbody tr th:only-of-type {\n",
       "        vertical-align: middle;\n",
       "    }\n",
       "\n",
       "    .dataframe tbody tr th {\n",
       "        vertical-align: top;\n",
       "    }\n",
       "\n",
       "    .dataframe thead th {\n",
       "        text-align: right;\n",
       "    }\n",
       "</style>\n",
       "<table border=\"1\" class=\"dataframe\">\n",
       "  <thead>\n",
       "    <tr style=\"text-align: right;\">\n",
       "      <th></th>\n",
       "      <th>churn</th>\n",
       "      <th>churn_score</th>\n",
       "      <th>churn_pred</th>\n",
       "    </tr>\n",
       "    <tr>\n",
       "      <th>id</th>\n",
       "      <th></th>\n",
       "      <th></th>\n",
       "      <th></th>\n",
       "    </tr>\n",
       "  </thead>\n",
       "  <tbody>\n",
       "    <tr>\n",
       "      <th>409-8978</th>\n",
       "      <td>0</td>\n",
       "      <td>0.051698</td>\n",
       "      <td>0</td>\n",
       "    </tr>\n",
       "    <tr>\n",
       "      <th>444-7077</th>\n",
       "      <td>0</td>\n",
       "      <td>0.033550</td>\n",
       "      <td>0</td>\n",
       "    </tr>\n",
       "    <tr>\n",
       "      <th>401-9132</th>\n",
       "      <td>0</td>\n",
       "      <td>0.255781</td>\n",
       "      <td>0</td>\n",
       "    </tr>\n",
       "    <tr>\n",
       "      <th>409-2971</th>\n",
       "      <td>0</td>\n",
       "      <td>0.128530</td>\n",
       "      <td>0</td>\n",
       "    </tr>\n",
       "    <tr>\n",
       "      <th>431-5175</th>\n",
       "      <td>0</td>\n",
       "      <td>0.072581</td>\n",
       "      <td>0</td>\n",
       "    </tr>\n",
       "    <tr>\n",
       "      <th>375-5486</th>\n",
       "      <td>1</td>\n",
       "      <td>0.088738</td>\n",
       "      <td>0</td>\n",
       "    </tr>\n",
       "    <tr>\n",
       "      <th>400-7151</th>\n",
       "      <td>1</td>\n",
       "      <td>0.552494</td>\n",
       "      <td>1</td>\n",
       "    </tr>\n",
       "    <tr>\n",
       "      <th>390-2169</th>\n",
       "      <td>0</td>\n",
       "      <td>0.115307</td>\n",
       "      <td>0</td>\n",
       "    </tr>\n",
       "    <tr>\n",
       "      <th>420-8569</th>\n",
       "      <td>1</td>\n",
       "      <td>0.053947</td>\n",
       "      <td>0</td>\n",
       "    </tr>\n",
       "    <tr>\n",
       "      <th>446-7327</th>\n",
       "      <td>0</td>\n",
       "      <td>0.058337</td>\n",
       "      <td>0</td>\n",
       "    </tr>\n",
       "  </tbody>\n",
       "</table>\n",
       "</div>"
      ],
      "text/plain": [
       "          churn  churn_score  churn_pred\n",
       "id                                      \n",
       "409-8978      0     0.051698           0\n",
       "444-7077      0     0.033550           0\n",
       "401-9132      0     0.255781           0\n",
       "409-2971      0     0.128530           0\n",
       "431-5175      0     0.072581           0\n",
       "375-5486      1     0.088738           0\n",
       "400-7151      1     0.552494           1\n",
       "390-2169      0     0.115307           0\n",
       "420-8569      1     0.053947           0\n",
       "446-7327      0     0.058337           0"
      ]
     },
     "execution_count": 11,
     "metadata": {},
     "output_type": "execute_result"
    }
   ],
   "source": [
    "df.iloc[:, 13:].head(10)"
   ]
  },
  {
   "cell_type": "markdown",
   "metadata": {},
   "source": [
    "### Confusion matrix\n",
    "\n",
    "The **confusion matrix** informs on the coincidence between the columns `churn` and `churn_pred`. There is a way of calculating this matrix with scikit-learn, but I leave this for the homework. Let me use the `pandas` function `crosstab`.  Note that the vector first specified comes in the rows. "
   ]
  },
  {
   "cell_type": "code",
   "execution_count": 12,
   "metadata": {},
   "outputs": [
    {
     "data": {
      "text/html": [
       "<div>\n",
       "<style scoped>\n",
       "    .dataframe tbody tr th:only-of-type {\n",
       "        vertical-align: middle;\n",
       "    }\n",
       "\n",
       "    .dataframe tbody tr th {\n",
       "        vertical-align: top;\n",
       "    }\n",
       "\n",
       "    .dataframe thead th {\n",
       "        text-align: right;\n",
       "    }\n",
       "</style>\n",
       "<table border=\"1\" class=\"dataframe\">\n",
       "  <thead>\n",
       "    <tr style=\"text-align: right;\">\n",
       "      <th>churn</th>\n",
       "      <th>0</th>\n",
       "      <th>1</th>\n",
       "    </tr>\n",
       "    <tr>\n",
       "      <th>churn_pred</th>\n",
       "      <th></th>\n",
       "      <th></th>\n",
       "    </tr>\n",
       "  </thead>\n",
       "  <tbody>\n",
       "    <tr>\n",
       "      <th>0</th>\n",
       "      <td>3894</td>\n",
       "      <td>661</td>\n",
       "    </tr>\n",
       "    <tr>\n",
       "      <th>1</th>\n",
       "      <td>138</td>\n",
       "      <td>307</td>\n",
       "    </tr>\n",
       "  </tbody>\n",
       "</table>\n",
       "</div>"
      ],
      "text/plain": [
       "churn          0    1\n",
       "churn_pred           \n",
       "0           3894  661\n",
       "1            138  307"
      ]
     },
     "execution_count": 12,
     "metadata": {},
     "output_type": "execute_result"
    }
   ],
   "source": [
    "conf1 = pd.crosstab(df['churn_pred'], df['churn'])\n",
    "conf1"
   ]
  },
  {
   "cell_type": "markdown",
   "metadata": {},
   "source": [
    "The **true positive (TP) rate** and the **false positive (FP) rate** allow us to be more specific. Here, the FP rate is pretty low, but the TP rate shows that a cutoff so high does not capture enough potential churners. "
   ]
  },
  {
   "cell_type": "code",
   "execution_count": 13,
   "metadata": {},
   "outputs": [
    {
     "data": {
      "text/plain": [
       "0.317"
      ]
     },
     "execution_count": 13,
     "metadata": {},
     "output_type": "execute_result"
    }
   ],
   "source": [
    "tp1 = conf1.iloc[1, 1]/(conf1.iloc[0, 1] + conf1.iloc[1, 1])\n",
    "tp1.round(3)"
   ]
  },
  {
   "cell_type": "code",
   "execution_count": 14,
   "metadata": {},
   "outputs": [
    {
     "data": {
      "text/plain": [
       "0.034"
      ]
     },
     "execution_count": 14,
     "metadata": {},
     "output_type": "execute_result"
    }
   ],
   "source": [
    "fp1 = conf1.iloc[1, 0]/(conf1.iloc[0, 0] + conf1.iloc[1, 0])\n",
    "fp1.round(3)"
   ]
  },
  {
   "cell_type": "markdown",
   "metadata": {},
   "source": [
    "### Changing the cutoff\n",
    "\n",
    "Taking a look at the distribution of the scores could have told us in advance what we were going to find. In particular, examining the distribution separately in the churners and the non-churners. I start with the churners (Figure 1). "
   ]
  },
  {
   "cell_type": "code",
   "execution_count": 15,
   "metadata": {},
   "outputs": [],
   "source": [
    "import matplotlib.pyplot as plt"
   ]
  },
  {
   "cell_type": "code",
   "execution_count": 16,
   "metadata": {},
   "outputs": [
    {
     "data": {
      "image/png": "[encoded data removed]",
      "text/plain": [
       "<Figure size 432x432 with 1 Axes>"
      ]
     },
     "metadata": {
      "needs_background": "light"
     },
     "output_type": "display_data"
    }
   ],
   "source": [
    "df['churn_score'][df['churn']==0].plot.hist(bins=20, range=(0,1), \\\n",
    "    title='Figure 1. Scores (churners)', figsize=(6,6), color='0.7')\n",
    "plt.xlabel('Churn score')\n",
    "plt.show()"
   ]
  },
  {
   "cell_type": "markdown",
   "metadata": {},
   "source": [
    "Note that I have controlled the **number of bins** with the arguments `bins=20`, `range=(0,1)`. This creates a partition into intervals of length 0.05, which works fine here. I repeat the exercise for the non-churners (Figure 2)."
   ]
  },
  {
   "cell_type": "code",
   "execution_count": 17,
   "metadata": {},
   "outputs": [
    {
     "data": {
      "image/png": "[encoded data removed]",
      "text/plain": [
       "<Figure size 432x432 with 1 Axes>"
      ]
     },
     "metadata": {
      "needs_background": "light"
     },
     "output_type": "display_data"
    }
   ],
   "source": [
    "df['churn_score'][df['churn']==0].plot.hist(bins=20, range=(0,1), \n",
    "    title='Figure 2. Scores (non-churners)',figsize=(6,6), color='0.7')\n",
    "plt.xlabel('Churn score')\n",
    "plt.show()"
   ]
  },
  {
   "cell_type": "markdown",
   "metadata": {},
   "source": [
    "Let us look at the above histograms. In Figure 1, classifying as churners only those customers with score higher than 0.5 will leave out more than one half of the actual churners, which, from a business perspective, looks like a poor job. In compensation, we see in Figure 2 than the vast majority of the non-churners will be classified in the right way. This is, indeed, what the confusion matrix shows.\n",
    "\n",
    "I set now the cutoff at 0.2. Again, we can guess what will happen from the histograms, but the TP and FP rates allow us to be more specific. "
   ]
  },
  {
   "cell_type": "code",
   "execution_count": 18,
   "metadata": {},
   "outputs": [
    {
     "data": {
      "text/html": [
       "<div>\n",
       "<style scoped>\n",
       "    .dataframe tbody tr th:only-of-type {\n",
       "        vertical-align: middle;\n",
       "    }\n",
       "\n",
       "    .dataframe tbody tr th {\n",
       "        vertical-align: top;\n",
       "    }\n",
       "\n",
       "    .dataframe thead th {\n",
       "        text-align: right;\n",
       "    }\n",
       "</style>\n",
       "<table border=\"1\" class=\"dataframe\">\n",
       "  <thead>\n",
       "    <tr style=\"text-align: right;\">\n",
       "      <th>churn</th>\n",
       "      <th>0</th>\n",
       "      <th>1</th>\n",
       "    </tr>\n",
       "    <tr>\n",
       "      <th>churn_pred</th>\n",
       "      <th></th>\n",
       "      <th></th>\n",
       "    </tr>\n",
       "  </thead>\n",
       "  <tbody>\n",
       "    <tr>\n",
       "      <th>0</th>\n",
       "      <td>3180</td>\n",
       "      <td>344</td>\n",
       "    </tr>\n",
       "    <tr>\n",
       "      <th>1</th>\n",
       "      <td>852</td>\n",
       "      <td>624</td>\n",
       "    </tr>\n",
       "  </tbody>\n",
       "</table>\n",
       "</div>"
      ],
      "text/plain": [
       "churn          0    1\n",
       "churn_pred           \n",
       "0           3180  344\n",
       "1            852  624"
      ]
     },
     "execution_count": 18,
     "metadata": {},
     "output_type": "execute_result"
    }
   ],
   "source": [
    "df['churn_pred'] = (df['churn_score'] > 0.2).astype(int) \n",
    "conf2 = pd.crosstab(df['churn_pred'], df['churn'])\n",
    "conf2"
   ]
  },
  {
   "cell_type": "code",
   "execution_count": 19,
   "metadata": {},
   "outputs": [
    {
     "data": {
      "text/plain": [
       "0.645"
      ]
     },
     "execution_count": 19,
     "metadata": {},
     "output_type": "execute_result"
    }
   ],
   "source": [
    "tp2 = conf2.iloc[1, 1]/(conf2.iloc[0, 1] + conf2.iloc[1, 1])\n",
    "tp2.round(3)"
   ]
  },
  {
   "cell_type": "code",
   "execution_count": 20,
   "metadata": {},
   "outputs": [
    {
     "data": {
      "text/plain": [
       "0.211"
      ]
     },
     "execution_count": 20,
     "metadata": {},
     "output_type": "execute_result"
    }
   ],
   "source": [
    "fp2 = conf2.iloc[1, 0]/(conf2.iloc[0, 0] + conf2.iloc[1, 0])\n",
    "fp2.round(3)"
   ]
  },
  {
   "cell_type": "markdown",
   "metadata": {},
   "source": [
    "Now the results look more acceptable. Nevertheless, in a business application, a **cost/benefit analysis** would be the right way to decide how useful this model could be. I leave this for the homework.\n",
    "\n",
    "### Source of the data\n",
    "\n",
    "MA Canela, I Alegre & A Ibarra (2019), *Quantitative Methods for Management --- A Practical Approach*, Springer."
   ]
  }
 ],
 "metadata": {
  "kernelspec": {
   "display_name": "Python 3",
   "language": "python",
   "name": "python3"
  },
  "language_info": {
   "codemirror_mode": {
    "name": "ipython",
    "version": 3
   },
   "file_extension": ".py",
   "mimetype": "text/x-python",
   "name": "python",
   "nbconvert_exporter": "python",
   "pygments_lexer": "ipython3",
   "version": "3.6.6"
  }
 },
 "nbformat": 4,
 "nbformat_minor": 2
}
