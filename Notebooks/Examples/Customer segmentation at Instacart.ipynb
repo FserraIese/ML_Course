{
 "cells": [
  {
   "cell_type": "markdown",
   "metadata": {},
   "source": [
    "# Customer segmentation at Instacart\n",
    "\n",
    "## Miguel Ángel Canela, IESE Business School\n",
    "\n",
    "******\n",
    "\n",
    "### Introduction\n",
    "\n",
    "**Instacart** (`instacart.com`) is a grocery ordering and delivery app. After selecting products through the Instacart app, personal shoppers review your order and do the in-store shopping and delivery for you.\n",
    "\n",
    "The data for this example come from the public release of an anonymized data base containing a sample of over 3 million grocery orders from more than 200,000 Instacart users. The users with less than 10 orders were discarded, leaving us with about one half of the users. For the users retained, only the last 10 orders were taken, so the data set became balanced. \n",
    "\n",
    "The database covers 49,688 **products**, distributed across 134 **aisles**. A table has been derived from the database, in which the rows are the users, the columns are the aisles and every entry is the number of product units purchased by a particular user from a particular aisle. In this example, I use these data to present two cases of **customer segmentation**.\n",
    "\n",
    "### Importing the data\n",
    "\n",
    "Since the original data set was too big to be posted on GitHub in CSV format, it has been partitioned into two subsets. I import these subsets separately, putting them together with the Pandas function `concat`. The argument `axis=0` means that they are concatenated vertically."
   ]
  },
  {
   "cell_type": "code",
   "execution_count": 1,
   "metadata": {},
   "outputs": [],
   "source": [
    "import pandas as pd\n",
    "folder = 'https://raw.githubusercontent.com/mcanela-iese/ML_Course/master/Data/'\n",
    "df1 = pd.read_csv(folder + 'instacart1.csv')\n",
    "df2 = pd.read_csv(folder + 'instacart2.csv')\n",
    "df = pd.concat([df1, df2], axis=0)"
   ]
  },
  {
   "cell_type": "markdown",
   "metadata": {},
   "source": [
    "I check that the shape and the aspect of the data set are as expected."
   ]
  },
  {
   "cell_type": "code",
   "execution_count": 2,
   "metadata": {},
   "outputs": [
    {
     "data": {
      "text/plain": [
       "(107438, 134)"
      ]
     },
     "execution_count": 2,
     "metadata": {},
     "output_type": "execute_result"
    }
   ],
   "source": [
    "df.shape"
   ]
  },
  {
   "cell_type": "code",
   "execution_count": 3,
   "metadata": {},
   "outputs": [
    {
     "data": {
      "text/html": [
       "<div>\n",
       "<style scoped>\n",
       "    .dataframe tbody tr th:only-of-type {\n",
       "        vertical-align: middle;\n",
       "    }\n",
       "\n",
       "    .dataframe tbody tr th {\n",
       "        vertical-align: top;\n",
       "    }\n",
       "\n",
       "    .dataframe thead th {\n",
       "        text-align: right;\n",
       "    }\n",
       "</style>\n",
       "<table border=\"1\" class=\"dataframe\">\n",
       "  <thead>\n",
       "    <tr style=\"text-align: right;\">\n",
       "      <th></th>\n",
       "      <th>air fresheners candles</th>\n",
       "      <th>asian foods</th>\n",
       "      <th>baby accessories</th>\n",
       "      <th>baby bath body care</th>\n",
       "      <th>baby food formula</th>\n",
       "      <th>bakery desserts</th>\n",
       "      <th>baking ingredients</th>\n",
       "      <th>baking supplies decor</th>\n",
       "      <th>beauty</th>\n",
       "      <th>beers coolers</th>\n",
       "      <th>...</th>\n",
       "      <th>spreads</th>\n",
       "      <th>tea</th>\n",
       "      <th>tofu meat alternatives</th>\n",
       "      <th>tortillas flat bread</th>\n",
       "      <th>trail mix snack mix</th>\n",
       "      <th>trash bags liners</th>\n",
       "      <th>vitamins supplements</th>\n",
       "      <th>water seltzer sparkling water</th>\n",
       "      <th>white wines</th>\n",
       "      <th>yogurt</th>\n",
       "    </tr>\n",
       "  </thead>\n",
       "  <tbody>\n",
       "    <tr>\n",
       "      <th>0</th>\n",
       "      <td>0</td>\n",
       "      <td>0</td>\n",
       "      <td>0</td>\n",
       "      <td>0</td>\n",
       "      <td>0</td>\n",
       "      <td>0</td>\n",
       "      <td>0</td>\n",
       "      <td>0</td>\n",
       "      <td>0</td>\n",
       "      <td>0</td>\n",
       "      <td>...</td>\n",
       "      <td>1</td>\n",
       "      <td>0</td>\n",
       "      <td>0</td>\n",
       "      <td>0</td>\n",
       "      <td>0</td>\n",
       "      <td>0</td>\n",
       "      <td>0</td>\n",
       "      <td>0</td>\n",
       "      <td>0</td>\n",
       "      <td>1</td>\n",
       "    </tr>\n",
       "    <tr>\n",
       "      <th>1</th>\n",
       "      <td>0</td>\n",
       "      <td>1</td>\n",
       "      <td>0</td>\n",
       "      <td>0</td>\n",
       "      <td>0</td>\n",
       "      <td>0</td>\n",
       "      <td>0</td>\n",
       "      <td>0</td>\n",
       "      <td>0</td>\n",
       "      <td>0</td>\n",
       "      <td>...</td>\n",
       "      <td>0</td>\n",
       "      <td>0</td>\n",
       "      <td>0</td>\n",
       "      <td>0</td>\n",
       "      <td>0</td>\n",
       "      <td>0</td>\n",
       "      <td>0</td>\n",
       "      <td>0</td>\n",
       "      <td>0</td>\n",
       "      <td>27</td>\n",
       "    </tr>\n",
       "    <tr>\n",
       "      <th>2</th>\n",
       "      <td>0</td>\n",
       "      <td>0</td>\n",
       "      <td>0</td>\n",
       "      <td>0</td>\n",
       "      <td>0</td>\n",
       "      <td>0</td>\n",
       "      <td>0</td>\n",
       "      <td>0</td>\n",
       "      <td>0</td>\n",
       "      <td>0</td>\n",
       "      <td>...</td>\n",
       "      <td>4</td>\n",
       "      <td>1</td>\n",
       "      <td>0</td>\n",
       "      <td>0</td>\n",
       "      <td>0</td>\n",
       "      <td>0</td>\n",
       "      <td>0</td>\n",
       "      <td>1</td>\n",
       "      <td>0</td>\n",
       "      <td>0</td>\n",
       "    </tr>\n",
       "    <tr>\n",
       "      <th>3</th>\n",
       "      <td>0</td>\n",
       "      <td>0</td>\n",
       "      <td>0</td>\n",
       "      <td>0</td>\n",
       "      <td>0</td>\n",
       "      <td>0</td>\n",
       "      <td>0</td>\n",
       "      <td>0</td>\n",
       "      <td>0</td>\n",
       "      <td>0</td>\n",
       "      <td>...</td>\n",
       "      <td>0</td>\n",
       "      <td>0</td>\n",
       "      <td>0</td>\n",
       "      <td>0</td>\n",
       "      <td>0</td>\n",
       "      <td>0</td>\n",
       "      <td>0</td>\n",
       "      <td>0</td>\n",
       "      <td>0</td>\n",
       "      <td>4</td>\n",
       "    </tr>\n",
       "    <tr>\n",
       "      <th>4</th>\n",
       "      <td>0</td>\n",
       "      <td>0</td>\n",
       "      <td>0</td>\n",
       "      <td>0</td>\n",
       "      <td>0</td>\n",
       "      <td>0</td>\n",
       "      <td>2</td>\n",
       "      <td>0</td>\n",
       "      <td>0</td>\n",
       "      <td>0</td>\n",
       "      <td>...</td>\n",
       "      <td>0</td>\n",
       "      <td>2</td>\n",
       "      <td>0</td>\n",
       "      <td>7</td>\n",
       "      <td>0</td>\n",
       "      <td>0</td>\n",
       "      <td>0</td>\n",
       "      <td>0</td>\n",
       "      <td>0</td>\n",
       "      <td>1</td>\n",
       "    </tr>\n",
       "  </tbody>\n",
       "</table>\n",
       "<p>5 rows × 134 columns</p>\n",
       "</div>"
      ],
      "text/plain": [
       "   air fresheners candles  asian foods  baby accessories  baby bath body care  \\\n",
       "0                       0            0                 0                    0   \n",
       "1                       0            1                 0                    0   \n",
       "2                       0            0                 0                    0   \n",
       "3                       0            0                 0                    0   \n",
       "4                       0            0                 0                    0   \n",
       "\n",
       "   baby food formula  bakery desserts  baking ingredients  \\\n",
       "0                  0                0                   0   \n",
       "1                  0                0                   0   \n",
       "2                  0                0                   0   \n",
       "3                  0                0                   0   \n",
       "4                  0                0                   2   \n",
       "\n",
       "   baking supplies decor  beauty  beers coolers  ...  spreads  tea  \\\n",
       "0                      0       0              0  ...        1    0   \n",
       "1                      0       0              0  ...        0    0   \n",
       "2                      0       0              0  ...        4    1   \n",
       "3                      0       0              0  ...        0    0   \n",
       "4                      0       0              0  ...        0    2   \n",
       "\n",
       "   tofu meat alternatives  tortillas flat bread  trail mix snack mix  \\\n",
       "0                       0                     0                    0   \n",
       "1                       0                     0                    0   \n",
       "2                       0                     0                    0   \n",
       "3                       0                     0                    0   \n",
       "4                       0                     7                    0   \n",
       "\n",
       "   trash bags liners  vitamins supplements  water seltzer sparkling water  \\\n",
       "0                  0                     0                              0   \n",
       "1                  0                     0                              0   \n",
       "2                  0                     0                              1   \n",
       "3                  0                     0                              0   \n",
       "4                  0                     0                              0   \n",
       "\n",
       "   white wines  yogurt  \n",
       "0            0       1  \n",
       "1            0      27  \n",
       "2            0       0  \n",
       "3            0       4  \n",
       "4            0       1  \n",
       "\n",
       "[5 rows x 134 columns]"
      ]
     },
     "execution_count": 3,
     "metadata": {},
     "output_type": "execute_result"
    }
   ],
   "source": [
    "df.head()"
   ]
  },
  {
   "cell_type": "markdown",
   "metadata": {},
   "source": [
    "To see which aisles are the top-10 sellers, I calculate the mean of every column, that is, the average number of product units purchased by these customers, separately for every aisle. Note that the default of `apply` is `axis=0`, meaning columnwise."
   ]
  },
  {
   "cell_type": "code",
   "execution_count": 4,
   "metadata": {},
   "outputs": [
    {
     "data": {
      "text/plain": [
       "fresh fruits                     11.035034\n",
       "fresh vegetables                 10.559160\n",
       "packaged vegetables fruits        5.455937\n",
       "yogurt                            4.554459\n",
       "packaged cheese                   3.097172\n",
       "milk                              2.656267\n",
       "water seltzer sparkling water     2.555949\n",
       "chips pretzels                    2.303263\n",
       "soy lactosefree                   1.948659\n",
       "refrigerated                      1.825565\n",
       "dtype: float64"
      ]
     },
     "execution_count": 4,
     "metadata": {},
     "output_type": "execute_result"
    }
   ],
   "source": [
    "import numpy as np\n",
    "df.apply(np.mean).sort_values(ascending=False)[:10]"
   ]
  },
  {
   "cell_type": "markdown",
   "metadata": {},
   "source": [
    "### 4-cluster analysis\n",
    "\n",
    "I perform a **cluster analysis** to get the customer segments, using the scikit-learn module `cluster`. The **k-means** algorithm is provided by the class `KMeans`. I use the default arguments, except for two cases: I set the number of clusters at 4 and I specify `random_state` to make the clustering process reproducible (so youm can get the same segments which I am reporting here). This is a common approach for book authors when a random step is involved in an algorithm. \n",
    "\n",
    "*Note*. I am not implying that the results are better with `random_state=0`. Any other choice will give you a similar structure, but the order of the clusters (so, the labels) can change. "
   ]
  },
  {
   "cell_type": "code",
   "execution_count": 5,
   "metadata": {},
   "outputs": [],
   "source": [
    "from sklearn import cluster\n",
    "clus = cluster.KMeans(n_clusters=4, random_state=0)"
   ]
  },
  {
   "cell_type": "markdown",
   "metadata": {},
   "source": [
    "The method `fit` groups the instances into the specified number of clusters. Note that `fit` only has an argument, because this is **unsupervised learning**. This step can take a while in a slow computer."
   ]
  },
  {
   "cell_type": "code",
   "execution_count": 6,
   "metadata": {},
   "outputs": [
    {
     "data": {
      "text/plain": [
       "KMeans(algorithm='auto', copy_x=True, init='k-means++', max_iter=300,\n",
       "       n_clusters=4, n_init=10, n_jobs=None, precompute_distances='auto',\n",
       "       random_state=0, tol=0.0001, verbose=0)"
      ]
     },
     "execution_count": 6,
     "metadata": {},
     "output_type": "execute_result"
    }
   ],
   "source": [
    "clus.fit(df)"
   ]
  },
  {
   "cell_type": "markdown",
   "metadata": {},
   "source": [
    "The method `predict` creates a vector containing a label for every customer, coding the segments to which the costumers have been assigned. I set this vector as a Pandas series, to be able to use Pandas functions in the analysis below. "
   ]
  },
  {
   "cell_type": "code",
   "execution_count": 7,
   "metadata": {},
   "outputs": [],
   "source": [
    "segment = pd.Series(clus.predict(df))"
   ]
  },
  {
   "cell_type": "markdown",
   "metadata": {},
   "source": [
    "Now, I can calculate the **segment sizes** with the function `value_counts`. Note that the cluster sizes are quite different. This is the rule, not an exception."
   ]
  },
  {
   "cell_type": "code",
   "execution_count": 8,
   "metadata": {},
   "outputs": [
    {
     "data": {
      "text/plain": [
       "2    54841\n",
       "3    25498\n",
       "0    17353\n",
       "1     9746\n",
       "dtype: int64"
      ]
     },
     "execution_count": 8,
     "metadata": {},
     "output_type": "execute_result"
    }
   ],
   "source": [
    "segment.value_counts()"
   ]
  },
  {
   "cell_type": "markdown",
   "metadata": {},
   "source": [
    "The attribute `cluster_centers_` is a matrix with one row for each cluster. The entries are the coordinates of the **cluster center** in a 134-dimensional space in which every customer can be plotted as a point. The center of the cluster is the average of the points belonging to that cluster. It can be used to **profile** the cluster, that is, to describe the purchasing habits of its members in a user-friendly way."
   ]
  },
  {
   "cell_type": "code",
   "execution_count": 9,
   "metadata": {},
   "outputs": [],
   "source": [
    "centers = clus.cluster_centers_"
   ]
  },
  {
   "cell_type": "code",
   "execution_count": 10,
   "metadata": {},
   "outputs": [
    {
     "data": {
      "text/plain": [
       "(4, 134)"
      ]
     },
     "execution_count": 10,
     "metadata": {},
     "output_type": "execute_result"
    }
   ],
   "source": [
    "centers.shape"
   ]
  },
  {
   "cell_type": "markdown",
   "metadata": {},
   "source": [
    "I set each of the four rows of the matrix `centers` as a Pandas series, so I can examine them at ease."
   ]
  },
  {
   "cell_type": "code",
   "execution_count": 11,
   "metadata": {},
   "outputs": [
    {
     "data": {
      "text/plain": [
       "fresh fruits                     21.8\n",
       "yogurt                           11.8\n",
       "fresh vegetables                  8.9\n",
       "packaged vegetables fruits        8.4\n",
       "packaged cheese                   5.0\n",
       "milk                              4.6\n",
       "chips pretzels                    3.6\n",
       "baby food formula                 3.2\n",
       "water seltzer sparkling water     3.1\n",
       "energy granola bars               3.0\n",
       "dtype: float64"
      ]
     },
     "execution_count": 11,
     "metadata": {},
     "output_type": "execute_result"
    }
   ],
   "source": [
    "center0 = pd.Series(data = centers[0, :], index=df.columns)\n",
    "center0.sort_values(ascending=False).head(10).round(1)"
   ]
  },
  {
   "cell_type": "code",
   "execution_count": 12,
   "metadata": {},
   "outputs": [
    {
     "data": {
      "text/plain": [
       "fresh vegetables              37.1\n",
       "fresh fruits                  25.7\n",
       "packaged vegetables fruits    12.3\n",
       "yogurt                         6.8\n",
       "packaged cheese                5.3\n",
       "fresh herbs                    3.8\n",
       "milk                           3.6\n",
       "soy lactosefree                3.5\n",
       "frozen produce                 3.5\n",
       "chips pretzels                 2.8\n",
       "dtype: float64"
      ]
     },
     "execution_count": 12,
     "metadata": {},
     "output_type": "execute_result"
    }
   ],
   "source": [
    "center1 = pd.Series(data = centers[1, :], index=df.columns)\n",
    "center1.sort_values(ascending=False).head(10).round(1)"
   ]
  },
  {
   "cell_type": "code",
   "execution_count": 13,
   "metadata": {},
   "outputs": [
    {
     "data": {
      "text/plain": [
       "fresh fruits                     4.9\n",
       "fresh vegetables                 2.9\n",
       "packaged vegetables fruits       2.6\n",
       "water seltzer sparkling water    2.6\n",
       "yogurt                           2.4\n",
       "milk                             2.0\n",
       "packaged cheese                  1.9\n",
       "chips pretzels                   1.9\n",
       "ice cream ice                    1.6\n",
       "soft drinks                      1.5\n",
       "dtype: float64"
      ]
     },
     "execution_count": 13,
     "metadata": {},
     "output_type": "execute_result"
    }
   ],
   "source": [
    "center2 = pd.Series(data = centers[2, :], index=df.columns)\n",
    "center2.sort_values(ascending=False).head(10).round(1)"
   ]
  },
  {
   "cell_type": "code",
   "execution_count": 14,
   "metadata": {},
   "outputs": [
    {
     "data": {
      "text/plain": [
       "fresh vegetables                 18.0\n",
       "fresh fruits                     11.3\n",
       "packaged vegetables fruits        6.9\n",
       "packaged cheese                   3.4\n",
       "yogurt                            3.3\n",
       "milk                              2.4\n",
       "soy lactosefree                   2.3\n",
       "water seltzer sparkling water     2.1\n",
       "frozen produce                    2.1\n",
       "fresh herbs                       2.1\n",
       "dtype: float64"
      ]
     },
     "execution_count": 14,
     "metadata": {},
     "output_type": "execute_result"
    }
   ],
   "source": [
    "center3 = pd.Series(data = centers[3, :], index=df.columns)\n",
    "center3.sort_values(ascending=False).head(10).round(1)"
   ]
  },
  {
   "cell_type": "markdown",
   "metadata": {},
   "source": [
    "Although the average baskets of the customers of each segment are a bit different, the main difference between clusters is in the purchasing volume. \n",
    "\n",
    "* In cluster 1, we have the big spenders, buying more vegetables than fruits. This is the smallest group, with a 10% of the sample.\n",
    "\n",
    "* In cluster 0, less vegetables and more yogurt.\n",
    "\n",
    "* In cluster 3, the basket is similar to that of cluster 1, but buying less than one half. \n",
    "\n",
    "* In cluster 2, which contains one half of the sample, we have the smallest baskets. Except the sparkling water, no relevant specificities.\n",
    "\n",
    "### 20-cluster analysis\n",
    "\n",
    "It is typically said in statistics courses that the output of a cluster analysis is useful only if we can \"understand\" the clusters, which typically means that we can provide a short description. This implies, in most cases, a small number of clusters. Although this may be true in many cases, it is not so in e-commerce, where the software can manage a high number of clusters and use them for recommendation purposes. \n",
    "\n",
    "I repeat the analysis, setting now `n_clusters=20`. This may take a few minutes in your computer."
   ]
  },
  {
   "cell_type": "code",
   "execution_count": 15,
   "metadata": {},
   "outputs": [
    {
     "data": {
      "text/plain": [
       "KMeans(algorithm='auto', copy_x=True, init='k-means++', max_iter=300,\n",
       "       n_clusters=20, n_init=10, n_jobs=None, precompute_distances='auto',\n",
       "       random_state=0, tol=0.0001, verbose=0)"
      ]
     },
     "execution_count": 15,
     "metadata": {},
     "output_type": "execute_result"
    }
   ],
   "source": [
    "clus = cluster.KMeans(n_clusters=20, random_state=0)\n",
    "clus.fit(df)"
   ]
  },
  {
   "cell_type": "code",
   "execution_count": 16,
   "metadata": {},
   "outputs": [
    {
     "data": {
      "text/plain": [
       "3     25053\n",
       "1     13085\n",
       "5     10981\n",
       "4      7753\n",
       "18     7221\n",
       "9      5982\n",
       "11     5408\n",
       "12     4930\n",
       "0      4533\n",
       "2      4127\n",
       "8      2829\n",
       "7      2814\n",
       "13     2754\n",
       "14     2560\n",
       "6      1646\n",
       "16     1593\n",
       "15     1493\n",
       "17     1368\n",
       "10      666\n",
       "19      642\n",
       "dtype: int64"
      ]
     },
     "execution_count": 16,
     "metadata": {},
     "output_type": "execute_result"
    }
   ],
   "source": [
    "segment = pd.Series(clus.predict(df))\n",
    "segment.value_counts()"
   ]
  },
  {
   "cell_type": "markdown",
   "metadata": {},
   "source": [
    "I profile all the clusters, but focusing on the top five products."
   ]
  },
  {
   "cell_type": "code",
   "execution_count": 17,
   "metadata": {},
   "outputs": [
    {
     "data": {
      "text/plain": [
       "fresh vegetables              38.1\n",
       "fresh fruits                  17.2\n",
       "packaged vegetables fruits     9.8\n",
       "yogurt                         4.4\n",
       "fresh herbs                    4.1\n",
       "dtype: float64"
      ]
     },
     "execution_count": 17,
     "metadata": {},
     "output_type": "execute_result"
    }
   ],
   "source": [
    "centers = clus.cluster_centers_\n",
    "center0 = pd.Series(data = centers[0, :], index=df.columns)\n",
    "center0.sort_values(ascending=False).head(5).round(1)"
   ]
  },
  {
   "cell_type": "code",
   "execution_count": 18,
   "metadata": {},
   "outputs": [
    {
     "data": {
      "text/plain": [
       "fresh vegetables              11.1\n",
       "fresh fruits                   5.9\n",
       "packaged vegetables fruits     4.2\n",
       "packaged cheese                2.6\n",
       "yogurt                         2.3\n",
       "dtype: float64"
      ]
     },
     "execution_count": 18,
     "metadata": {},
     "output_type": "execute_result"
    }
   ],
   "source": [
    "center1 = pd.Series(data = centers[1, :], index=df.columns)\n",
    "center1.sort_values(ascending=False).head(5).round(1)"
   ]
  },
  {
   "cell_type": "code",
   "execution_count": 22,
   "metadata": {},
   "outputs": [
    {
     "data": {
      "text/plain": [
       "fresh fruits                  29.827478\n",
       "packaged vegetables fruits     7.907439\n",
       "fresh vegetables               7.491398\n",
       "yogurt                         5.685728\n",
       "milk                           4.268718\n",
       "dtype: float64"
      ]
     },
     "execution_count": 22,
     "metadata": {},
     "output_type": "execute_result"
    }
   ],
   "source": [
    "center2 = pd.Series(data = centers[2, :], index=df.columns)\n",
    "center2.sort_values(ascending=False).head(5)"
   ]
  },
  {
   "cell_type": "code",
   "execution_count": 19,
   "metadata": {},
   "outputs": [
    {
     "data": {
      "text/plain": [
       "fresh fruits                     2.4\n",
       "water seltzer sparkling water    1.8\n",
       "milk                             1.5\n",
       "packaged vegetables fruits       1.5\n",
       "soft drinks                      1.5\n",
       "dtype: float64"
      ]
     },
     "execution_count": 19,
     "metadata": {},
     "output_type": "execute_result"
    }
   ],
   "source": [
    "center3 = pd.Series(data = centers[3, :], index=df.columns)\n",
    "center3.sort_values(ascending=False).head(5).round(1)"
   ]
  },
  {
   "cell_type": "code",
   "execution_count": 20,
   "metadata": {},
   "outputs": [
    {
     "data": {
      "text/plain": [
       "fresh vegetables              23.2\n",
       "fresh fruits                   9.0\n",
       "packaged vegetables fruits     6.0\n",
       "packaged cheese                3.3\n",
       "yogurt                         3.2\n",
       "dtype: float64"
      ]
     },
     "execution_count": 20,
     "metadata": {},
     "output_type": "execute_result"
    }
   ],
   "source": [
    "center4 = pd.Series(data = centers[4, :], index=df.columns)\n",
    "center4.sort_values(ascending=False).head(5).round(1)"
   ]
  },
  {
   "cell_type": "code",
   "execution_count": 21,
   "metadata": {},
   "outputs": [
    {
     "data": {
      "text/plain": [
       "fresh fruits                  14.3\n",
       "fresh vegetables               4.6\n",
       "packaged vegetables fruits     4.1\n",
       "yogurt                         2.9\n",
       "milk                           2.8\n",
       "dtype: float64"
      ]
     },
     "execution_count": 21,
     "metadata": {},
     "output_type": "execute_result"
    }
   ],
   "source": [
    "center5 = pd.Series(data = centers[5, :], index=df.columns)\n",
    "center5.sort_values(ascending=False).head(5).round(1)"
   ]
  },
  {
   "cell_type": "code",
   "execution_count": 22,
   "metadata": {},
   "outputs": [
    {
     "data": {
      "text/plain": [
       "refrigerated                  19.3\n",
       "fresh fruits                   9.3\n",
       "fresh vegetables               6.1\n",
       "packaged vegetables fruits     4.8\n",
       "yogurt                         4.7\n",
       "dtype: float64"
      ]
     },
     "execution_count": 22,
     "metadata": {},
     "output_type": "execute_result"
    }
   ],
   "source": [
    "center6 = pd.Series(data = centers[6, :], index=df.columns)\n",
    "center6.sort_values(ascending=False).head(5).round(1)"
   ]
  },
  {
   "cell_type": "code",
   "execution_count": 27,
   "metadata": {},
   "outputs": [
    {
     "data": {
      "text/plain": [
       "packaged produce              15.767591\n",
       "fresh fruits                   9.414357\n",
       "packaged vegetables fruits     3.367804\n",
       "fresh vegetables               2.726368\n",
       "milk                           1.413291\n",
       "dtype: float64"
      ]
     },
     "execution_count": 27,
     "metadata": {},
     "output_type": "execute_result"
    }
   ],
   "source": [
    "center7 = pd.Series(data = centers[7, :], index=df.columns)\n",
    "center7.sort_values(ascending=False).head(5)"
   ]
  },
  {
   "cell_type": "code",
   "execution_count": 23,
   "metadata": {},
   "outputs": [
    {
     "data": {
      "text/plain": [
       "fresh fruits                  37.2\n",
       "fresh vegetables              28.5\n",
       "packaged vegetables fruits    15.7\n",
       "yogurt                         9.0\n",
       "packaged cheese                7.2\n",
       "dtype: float64"
      ]
     },
     "execution_count": 23,
     "metadata": {},
     "output_type": "execute_result"
    }
   ],
   "source": [
    "center8 = pd.Series(data = centers[8, :], index=df.columns)\n",
    "center8.sort_values(ascending=False).head(5).round(1)"
   ]
  },
  {
   "cell_type": "code",
   "execution_count": 24,
   "metadata": {},
   "outputs": [
    {
     "data": {
      "text/plain": [
       "chips pretzels     7.0\n",
       "packaged cheese    5.3\n",
       "fresh fruits       5.3\n",
       "ice cream ice      4.7\n",
       "soft drinks        3.8\n",
       "dtype: float64"
      ]
     },
     "execution_count": 24,
     "metadata": {},
     "output_type": "execute_result"
    }
   ],
   "source": [
    "center9 = pd.Series(data = centers[9, :], index=df.columns)\n",
    "center9.sort_values(ascending=False).head(5).round(1)"
   ]
  },
  {
   "cell_type": "code",
   "execution_count": 25,
   "metadata": {},
   "outputs": [
    {
     "data": {
      "text/plain": [
       "yogurt                        48.2\n",
       "fresh fruits                  14.6\n",
       "energy granola bars            5.5\n",
       "packaged vegetables fruits     5.5\n",
       "milk                           5.1\n",
       "dtype: float64"
      ]
     },
     "execution_count": 25,
     "metadata": {},
     "output_type": "execute_result"
    }
   ],
   "source": [
    "center10 = pd.Series(data = centers[10, :], index=df.columns)\n",
    "center10.sort_values(ascending=False).head(5).round(1)"
   ]
  },
  {
   "cell_type": "code",
   "execution_count": 26,
   "metadata": {},
   "outputs": [
    {
     "data": {
      "text/plain": [
       "packaged vegetables fruits    14.7\n",
       "fresh fruits                  13.4\n",
       "fresh vegetables              11.6\n",
       "packaged cheese                5.1\n",
       "yogurt                         4.5\n",
       "dtype: float64"
      ]
     },
     "execution_count": 26,
     "metadata": {},
     "output_type": "execute_result"
    }
   ],
   "source": [
    "center11 = pd.Series(data = centers[11, :], index=df.columns)\n",
    "center11.sort_values(ascending=False).head(5).round(1)"
   ]
  },
  {
   "cell_type": "code",
   "execution_count": 27,
   "metadata": {},
   "outputs": [
    {
     "data": {
      "text/plain": [
       "yogurt                        17.1\n",
       "fresh fruits                   8.8\n",
       "fresh vegetables               5.1\n",
       "packaged vegetables fruits     4.3\n",
       "milk                           3.9\n",
       "dtype: float64"
      ]
     },
     "execution_count": 27,
     "metadata": {},
     "output_type": "execute_result"
    }
   ],
   "source": [
    "center12 = pd.Series(data = centers[12, :], index=df.columns)\n",
    "center12.sort_values(ascending=False).head(5).round(1)"
   ]
  },
  {
   "cell_type": "code",
   "execution_count": 28,
   "metadata": {},
   "outputs": [
    {
     "data": {
      "text/plain": [
       "fresh fruits                  22.5\n",
       "yogurt                        21.5\n",
       "fresh vegetables              17.3\n",
       "packaged vegetables fruits    11.1\n",
       "packaged cheese                7.8\n",
       "dtype: float64"
      ]
     },
     "execution_count": 28,
     "metadata": {},
     "output_type": "execute_result"
    }
   ],
   "source": [
    "center13 = pd.Series(data = centers[13, :], index=df.columns)\n",
    "center13.sort_values(ascending=False).head(5).round(1)"
   ]
  },
  {
   "cell_type": "code",
   "execution_count": 29,
   "metadata": {},
   "outputs": [
    {
     "data": {
      "text/plain": [
       "baby food formula             35.3\n",
       "fresh fruits                  16.9\n",
       "fresh vegetables              12.4\n",
       "yogurt                         8.9\n",
       "packaged vegetables fruits     7.7\n",
       "dtype: float64"
      ]
     },
     "execution_count": 29,
     "metadata": {},
     "output_type": "execute_result"
    }
   ],
   "source": [
    "center15 = pd.Series(data = centers[15, :], index=df.columns)\n",
    "center15.sort_values(ascending=False).head(5).round(1)"
   ]
  },
  {
   "cell_type": "code",
   "execution_count": 30,
   "metadata": {},
   "outputs": [
    {
     "data": {
      "text/plain": [
       "frozen meals                  23.1\n",
       "fresh fruits                   7.2\n",
       "fresh vegetables               5.1\n",
       "yogurt                         4.8\n",
       "packaged vegetables fruits     4.4\n",
       "dtype: float64"
      ]
     },
     "execution_count": 30,
     "metadata": {},
     "output_type": "execute_result"
    }
   ],
   "source": [
    "center16 = pd.Series(data = centers[16, :], index=df.columns)\n",
    "center16.sort_values(ascending=False).head(5).round(1)"
   ]
  },
  {
   "cell_type": "code",
   "execution_count": 31,
   "metadata": {},
   "outputs": [
    {
     "data": {
      "text/plain": [
       "fresh vegetables              57.6\n",
       "fresh fruits                  31.1\n",
       "packaged vegetables fruits    15.1\n",
       "yogurt                         7.1\n",
       "fresh herbs                    6.0\n",
       "dtype: float64"
      ]
     },
     "execution_count": 31,
     "metadata": {},
     "output_type": "execute_result"
    }
   ],
   "source": [
    "center17 = pd.Series(data = centers[17, :], index=df.columns)\n",
    "center17.sort_values(ascending=False).head(5).round(1)"
   ]
  },
  {
   "cell_type": "code",
   "execution_count": 32,
   "metadata": {},
   "outputs": [
    {
     "data": {
      "text/plain": [
       "fresh fruits                  21.1\n",
       "fresh vegetables              20.6\n",
       "packaged vegetables fruits     8.0\n",
       "yogurt                         4.2\n",
       "packaged cheese                3.8\n",
       "dtype: float64"
      ]
     },
     "execution_count": 32,
     "metadata": {},
     "output_type": "execute_result"
    }
   ],
   "source": [
    "center18 = pd.Series(data = centers[18, :], index=df.columns)\n",
    "center18.sort_values(ascending=False).head(5).round(1)"
   ]
  },
  {
   "cell_type": "code",
   "execution_count": 33,
   "metadata": {},
   "outputs": [
    {
     "data": {
      "text/plain": [
       "energy granola bars              31.8\n",
       "fresh fruits                     13.5\n",
       "yogurt                            8.6\n",
       "chips pretzels                    7.2\n",
       "water seltzer sparkling water     5.8\n",
       "dtype: float64"
      ]
     },
     "execution_count": 33,
     "metadata": {},
     "output_type": "execute_result"
    }
   ],
   "source": [
    "center19 = pd.Series(data = centers[19, :], index=df.columns)\n",
    "center19.sort_values(ascending=False).head(5).round(1)"
   ]
  },
  {
   "cell_type": "markdown",
   "metadata": {},
   "source": [
    "To keep it short, I do not comment the results cluster by cluster. Instead I point to clusters 6, 7, 9, 16 and 19. Here we have **market niches**.\n",
    "\n",
    "### Source of the data\n",
    "\n",
    "The Instacart Online Grocery Shopping Dataset 2017."
   ]
  }
 ],
 "metadata": {
  "kernelspec": {
   "display_name": "Python 3",
   "language": "python",
   "name": "python3"
  },
  "language_info": {
   "codemirror_mode": {
    "name": "ipython",
    "version": 3
   },
   "file_extension": ".py",
   "mimetype": "text/x-python",
   "name": "python",
   "nbconvert_exporter": "python",
   "pygments_lexer": "ipython3",
   "version": "3.6.6"
  }
 },
 "nbformat": 4,
 "nbformat_minor": 2
}
