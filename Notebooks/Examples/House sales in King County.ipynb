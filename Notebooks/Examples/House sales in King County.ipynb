{
 "cells": [
  {
   "cell_type": "markdown",
   "metadata": {},
   "source": [
    "# House sales in King County\n",
    "\n",
    "## Miguel Ángel Canela, IESE Business School\n",
    "\n",
    "******\n",
    "\n",
    "### Introduction\n",
    "\n",
    "This example illustrates **linear regression** in Python, using the library scikit-learn, which contains a collection of ML methods, both supervised and unsupervised. If you are using Python but you want linear regression with a statistical flavor ($p$-values, confidence limits, normality tests, etc), a good choice would be the library **StatsModels**.\n",
    "\n",
    "The objective is to develop a model for house sale prices in King County (Washington), which includes Seattle. It is the most populous county in Washington (population 1,931,249 in the 2010 census), and the 13th-most populous in the United States. The data set include 21,613 homes sold between May 2014 and May 2015. It contains an id field, the date the house was sold, the sale price and 13 house features:\n",
    "\n",
    "* `id`, an identifier of the house.\n",
    "\n",
    "* `date`, the date when the sale took place, in a curious format commented below.\n",
    "\n",
    "* `price`, the sale price in US dollars.\n",
    "\n",
    "* `bedrooms`, the number of bedrooms.\n",
    "\n",
    "* `bathrooms`, the number of bathrooms.\n",
    "\n",
    "* `sqft_above`, the square footage of the home, discounting the basement.\n",
    "\n",
    "* `sqft_basement`, the square footage of the basement.\n",
    "\n",
    "* `sqft_lot`, the square footage of the lot.\n",
    "\n",
    "* `floors`, the total floors (levels) in house.\n",
    "\n",
    "* `waterfront`, a dummy for having a view to the waterfront.\n",
    "\n",
    "* `condition`, a 1-5 rating.\n",
    "\n",
    "* `yr_built`, the year when the house was built.\n",
    "\n",
    "* `yr_renovated`, the year when the house was renovated.\n",
    "\n",
    "* `zipcode`, the ZIP code of the house.\n",
    "\n",
    "* `lat`, the latitude of the house.\n",
    "\n",
    "* `long`, the longitude of the house.\n",
    "\n",
    "### Importing the data\n",
    "\n",
    "I import the data from a CSV file, checking the dimensions.\n"
   ]
  },
  {
   "cell_type": "code",
   "execution_count": 1,
   "metadata": {},
   "outputs": [
    {
     "data": {
      "text/plain": [
       "(21613, 16)"
      ]
     },
     "execution_count": 1,
     "metadata": {},
     "output_type": "execute_result"
    }
   ],
   "source": [
    "import pandas as pd\n",
    "fname = 'https://raw.githubusercontent.com/mcanela-iese/ML_Course/master/Data/' \\\n",
    "    'king.csv'\n",
    "df = pd.read_csv(fname)\n",
    "df.shape"
   ]
  },
  {
   "cell_type": "markdown",
   "metadata": {},
   "source": [
    "`df` is a data frame, with 21,613 rows and 16 columns. The first column has many **duplicates**, which are not duplicates for the data frame. This means that the same house may have been sold more than once during the period covered by the data."
   ]
  },
  {
   "cell_type": "code",
   "execution_count": 2,
   "metadata": {},
   "outputs": [
    {
     "data": {
      "text/plain": [
       "177"
      ]
     },
     "execution_count": 2,
     "metadata": {},
     "output_type": "execute_result"
    }
   ],
   "source": [
    "df['id'].duplicated().sum()"
   ]
  },
  {
   "cell_type": "code",
   "execution_count": 3,
   "metadata": {},
   "outputs": [
    {
     "data": {
      "text/plain": [
       "0"
      ]
     },
     "execution_count": 3,
     "metadata": {},
     "output_type": "execute_result"
    }
   ],
   "source": [
    "df.duplicated().sum()"
   ]
  },
  {
   "cell_type": "markdown",
   "metadata": {},
   "source": [
    "With the function `info`, we take a look at the columns of this data frame."
   ]
  },
  {
   "cell_type": "code",
   "execution_count": 4,
   "metadata": {},
   "outputs": [
    {
     "name": "stdout",
     "output_type": "stream",
     "text": [
      "<class 'pandas.core.frame.DataFrame'>\n",
      "RangeIndex: 21613 entries, 0 to 21612\n",
      "Data columns (total 16 columns):\n",
      "id               21613 non-null int64\n",
      "date             21613 non-null object\n",
      "zipcode          21613 non-null int64\n",
      "lat              21613 non-null float64\n",
      "long             21613 non-null float64\n",
      "bedrooms         21613 non-null int64\n",
      "bathrooms        21613 non-null float64\n",
      "sqft_above       21613 non-null int64\n",
      "sqft_basement    21613 non-null int64\n",
      "sqft_lot         21613 non-null int64\n",
      "floors           21613 non-null float64\n",
      "waterfront       21613 non-null int64\n",
      "condition        21613 non-null int64\n",
      "yr_built         21613 non-null int64\n",
      "yr_renovated     21613 non-null int64\n",
      "price            21613 non-null int64\n",
      "dtypes: float64(4), int64(11), object(1)\n",
      "memory usage: 2.6+ MB\n"
     ]
    }
   ],
   "source": [
    "df.info()"
   ]
  },
  {
   "cell_type": "markdown",
   "metadata": {},
   "source": [
    "Note the format of `date`. '20140502T000000' must be read as '2014-05-02 00:00:00', which is the standard **datetime format**. The 'T' indicates the beginning of the time part. Since '20140502T000000' contains a non-numeric character, it is imported as a string.\n",
    "\n",
    "I rescale the prices, to get simpler figures."
   ]
  },
  {
   "cell_type": "code",
   "execution_count": 5,
   "metadata": {},
   "outputs": [],
   "source": [
    "df['price'] = df['price']/1000"
   ]
  },
  {
   "cell_type": "markdown",
   "metadata": {},
   "source": [
    "A summary of the data helps. I use the function `describe`, omitting `id`, `zipcode` and `date`, which would not make sense (`date` would have been ignored by `describe`, which does not take non-numeric columns). Note that, for a dummy like `waterfront`, the mean is just the proportion of 1's. So, 0.75% of the houses have a view to the waterfront. The rest is easy."
   ]
  },
  {
   "cell_type": "code",
   "execution_count": 6,
   "metadata": {},
   "outputs": [
    {
     "data": {
      "text/html": [
       "<div>\n",
       "<style scoped>\n",
       "    .dataframe tbody tr th:only-of-type {\n",
       "        vertical-align: middle;\n",
       "    }\n",
       "\n",
       "    .dataframe tbody tr th {\n",
       "        vertical-align: top;\n",
       "    }\n",
       "\n",
       "    .dataframe thead th {\n",
       "        text-align: right;\n",
       "    }\n",
       "</style>\n",
       "<table border=\"1\" class=\"dataframe\">\n",
       "  <thead>\n",
       "    <tr style=\"text-align: right;\">\n",
       "      <th></th>\n",
       "      <th>lat</th>\n",
       "      <th>long</th>\n",
       "      <th>bedrooms</th>\n",
       "      <th>bathrooms</th>\n",
       "      <th>sqft_above</th>\n",
       "      <th>sqft_basement</th>\n",
       "      <th>sqft_lot</th>\n",
       "      <th>floors</th>\n",
       "      <th>waterfront</th>\n",
       "      <th>condition</th>\n",
       "      <th>yr_built</th>\n",
       "      <th>yr_renovated</th>\n",
       "      <th>price</th>\n",
       "    </tr>\n",
       "  </thead>\n",
       "  <tbody>\n",
       "    <tr>\n",
       "      <th>count</th>\n",
       "      <td>21613.0</td>\n",
       "      <td>21613.0</td>\n",
       "      <td>21613.0</td>\n",
       "      <td>21613.0</td>\n",
       "      <td>21613.0</td>\n",
       "      <td>21613.0</td>\n",
       "      <td>21613.0</td>\n",
       "      <td>21613.0</td>\n",
       "      <td>21613.0</td>\n",
       "      <td>21613.0</td>\n",
       "      <td>21613.0</td>\n",
       "      <td>21613.0</td>\n",
       "      <td>21613.0</td>\n",
       "    </tr>\n",
       "    <tr>\n",
       "      <th>mean</th>\n",
       "      <td>47.6</td>\n",
       "      <td>-122.2</td>\n",
       "      <td>3.4</td>\n",
       "      <td>2.1</td>\n",
       "      <td>1788.4</td>\n",
       "      <td>291.5</td>\n",
       "      <td>15107.0</td>\n",
       "      <td>1.5</td>\n",
       "      <td>0.0</td>\n",
       "      <td>3.4</td>\n",
       "      <td>1971.0</td>\n",
       "      <td>84.4</td>\n",
       "      <td>540.1</td>\n",
       "    </tr>\n",
       "    <tr>\n",
       "      <th>std</th>\n",
       "      <td>0.1</td>\n",
       "      <td>0.1</td>\n",
       "      <td>0.9</td>\n",
       "      <td>0.8</td>\n",
       "      <td>828.1</td>\n",
       "      <td>442.6</td>\n",
       "      <td>41420.5</td>\n",
       "      <td>0.5</td>\n",
       "      <td>0.1</td>\n",
       "      <td>0.7</td>\n",
       "      <td>29.4</td>\n",
       "      <td>401.7</td>\n",
       "      <td>367.1</td>\n",
       "    </tr>\n",
       "    <tr>\n",
       "      <th>min</th>\n",
       "      <td>47.2</td>\n",
       "      <td>-122.5</td>\n",
       "      <td>0.0</td>\n",
       "      <td>0.0</td>\n",
       "      <td>290.0</td>\n",
       "      <td>0.0</td>\n",
       "      <td>520.0</td>\n",
       "      <td>1.0</td>\n",
       "      <td>0.0</td>\n",
       "      <td>1.0</td>\n",
       "      <td>1900.0</td>\n",
       "      <td>0.0</td>\n",
       "      <td>75.0</td>\n",
       "    </tr>\n",
       "    <tr>\n",
       "      <th>25%</th>\n",
       "      <td>47.5</td>\n",
       "      <td>-122.3</td>\n",
       "      <td>3.0</td>\n",
       "      <td>1.8</td>\n",
       "      <td>1190.0</td>\n",
       "      <td>0.0</td>\n",
       "      <td>5040.0</td>\n",
       "      <td>1.0</td>\n",
       "      <td>0.0</td>\n",
       "      <td>3.0</td>\n",
       "      <td>1951.0</td>\n",
       "      <td>0.0</td>\n",
       "      <td>322.0</td>\n",
       "    </tr>\n",
       "    <tr>\n",
       "      <th>50%</th>\n",
       "      <td>47.6</td>\n",
       "      <td>-122.2</td>\n",
       "      <td>3.0</td>\n",
       "      <td>2.2</td>\n",
       "      <td>1560.0</td>\n",
       "      <td>0.0</td>\n",
       "      <td>7618.0</td>\n",
       "      <td>1.5</td>\n",
       "      <td>0.0</td>\n",
       "      <td>3.0</td>\n",
       "      <td>1975.0</td>\n",
       "      <td>0.0</td>\n",
       "      <td>450.0</td>\n",
       "    </tr>\n",
       "    <tr>\n",
       "      <th>75%</th>\n",
       "      <td>47.7</td>\n",
       "      <td>-122.1</td>\n",
       "      <td>4.0</td>\n",
       "      <td>2.5</td>\n",
       "      <td>2210.0</td>\n",
       "      <td>560.0</td>\n",
       "      <td>10688.0</td>\n",
       "      <td>2.0</td>\n",
       "      <td>0.0</td>\n",
       "      <td>4.0</td>\n",
       "      <td>1997.0</td>\n",
       "      <td>0.0</td>\n",
       "      <td>645.0</td>\n",
       "    </tr>\n",
       "    <tr>\n",
       "      <th>max</th>\n",
       "      <td>47.8</td>\n",
       "      <td>-121.3</td>\n",
       "      <td>33.0</td>\n",
       "      <td>8.0</td>\n",
       "      <td>9410.0</td>\n",
       "      <td>4820.0</td>\n",
       "      <td>1651359.0</td>\n",
       "      <td>3.5</td>\n",
       "      <td>1.0</td>\n",
       "      <td>5.0</td>\n",
       "      <td>2015.0</td>\n",
       "      <td>2015.0</td>\n",
       "      <td>7700.0</td>\n",
       "    </tr>\n",
       "  </tbody>\n",
       "</table>\n",
       "</div>"
      ],
      "text/plain": [
       "           lat     long  bedrooms  bathrooms  sqft_above  sqft_basement  \\\n",
       "count  21613.0  21613.0   21613.0    21613.0     21613.0        21613.0   \n",
       "mean      47.6   -122.2       3.4        2.1      1788.4          291.5   \n",
       "std        0.1      0.1       0.9        0.8       828.1          442.6   \n",
       "min       47.2   -122.5       0.0        0.0       290.0            0.0   \n",
       "25%       47.5   -122.3       3.0        1.8      1190.0            0.0   \n",
       "50%       47.6   -122.2       3.0        2.2      1560.0            0.0   \n",
       "75%       47.7   -122.1       4.0        2.5      2210.0          560.0   \n",
       "max       47.8   -121.3      33.0        8.0      9410.0         4820.0   \n",
       "\n",
       "        sqft_lot   floors  waterfront  condition  yr_built  yr_renovated  \\\n",
       "count    21613.0  21613.0     21613.0    21613.0   21613.0       21613.0   \n",
       "mean     15107.0      1.5         0.0        3.4    1971.0          84.4   \n",
       "std      41420.5      0.5         0.1        0.7      29.4         401.7   \n",
       "min        520.0      1.0         0.0        1.0    1900.0           0.0   \n",
       "25%       5040.0      1.0         0.0        3.0    1951.0           0.0   \n",
       "50%       7618.0      1.5         0.0        3.0    1975.0           0.0   \n",
       "75%      10688.0      2.0         0.0        4.0    1997.0           0.0   \n",
       "max    1651359.0      3.5         1.0        5.0    2015.0        2015.0   \n",
       "\n",
       "         price  \n",
       "count  21613.0  \n",
       "mean     540.1  \n",
       "std      367.1  \n",
       "min       75.0  \n",
       "25%      322.0  \n",
       "50%      450.0  \n",
       "75%      645.0  \n",
       "max     7700.0  "
      ]
     },
     "execution_count": 6,
     "metadata": {},
     "output_type": "execute_result"
    }
   ],
   "source": [
    "df.iloc[:, 3:18].describe().round(1)"
   ]
  },
  {
   "cell_type": "markdown",
   "metadata": {},
   "source": [
    "### Linear regression model\n",
    "\n",
    "To apply a supervised learning method in scikit-learn, we have to specify the **target vector** `y` and the **feature matrix** `X`. The columns of `X` have to be numeric, but `y` can be a string vector in a classification model. "
   ]
  },
  {
   "cell_type": "code",
   "execution_count": 7,
   "metadata": {},
   "outputs": [],
   "source": [
    "y = df['price']\n",
    "X = df[['bedrooms', 'bathrooms', 'floors', 'waterfront', 'condition',\n",
    "  'sqft_above', 'sqft_basement', 'sqft_lot', 'yr_built', 'yr_renovated',\n",
    "  'lat', 'long']]"
   ]
  },
  {
   "cell_type": "markdown",
   "metadata": {},
   "source": [
    "scikit-learn (`sklearn` in the code) contains the module `linear_model`, with various regression methods. I load only the **class** `LinearRegression()`, with its default parameters, which I call `linreg`. In Python, a class is like an object constructor, or a \"blueprint\" for creating objects. This class comes with **methods**, which are functions that only make sense for this class. In this example, I apply three methods of the class `linreg`, namely `fit`, `predict`and `score`. The same approach will work for other supervised learning methods."
   ]
  },
  {
   "cell_type": "code",
   "execution_count": 8,
   "metadata": {},
   "outputs": [],
   "source": [
    "from sklearn import linear_model\n",
    "linreg = linear_model.LinearRegression()"
   ]
  },
  {
   "cell_type": "markdown",
   "metadata": {},
   "source": [
    "For `linreg`, the method `fit` fits a linear equation to the data, using the **least squares method**."
   ]
  },
  {
   "cell_type": "code",
   "execution_count": 9,
   "metadata": {},
   "outputs": [
    {
     "data": {
      "text/plain": [
       "LinearRegression(copy_X=True, fit_intercept=True, n_jobs=None, normalize=False)"
      ]
     },
     "execution_count": 9,
     "metadata": {},
     "output_type": "execute_result"
    }
   ],
   "source": [
    "linreg.fit(X, y)"
   ]
  },
  {
   "cell_type": "markdown",
   "metadata": {},
   "source": [
    "Now, the equation has been fitted to the data. The **predicted values** are obtained with the method `predict`. "
   ]
  },
  {
   "cell_type": "code",
   "execution_count": 10,
   "metadata": {},
   "outputs": [],
   "source": [
    "df['pred_price'] = linreg.predict(X)"
   ]
  },
  {
   "cell_type": "markdown",
   "metadata": {},
   "source": [
    "Finally, the method `score` quantifies the quality of the predictions, which in this class is done with an **R-squared statistic**."
   ]
  },
  {
   "cell_type": "code",
   "execution_count": 11,
   "metadata": {},
   "outputs": [
    {
     "data": {
      "text/plain": [
       "0.646"
      ]
     },
     "execution_count": 11,
     "metadata": {},
     "output_type": "execute_result"
    }
   ],
   "source": [
    "linreg.score(X, y).round(3)"
   ]
  },
  {
   "cell_type": "markdown",
   "metadata": {},
   "source": [
    "Indeed, this is the square of the correlation of the price and the predicted price:"
   ]
  },
  {
   "cell_type": "code",
   "execution_count": 12,
   "metadata": {},
   "outputs": [
    {
     "data": {
      "text/plain": [
       "0.646"
      ]
     },
     "execution_count": 12,
     "metadata": {},
     "output_type": "execute_result"
    }
   ],
   "source": [
    "r = df[['price', 'pred_price']].corr().iloc[0, 1]\n",
    "round(r**2, 3)"
   ]
  },
  {
   "cell_type": "markdown",
   "metadata": {},
   "source": [
    "### Graphics\n",
    "\n",
    "I use the module `matplotlib.pyplot` for plotting, as usual."
   ]
  },
  {
   "cell_type": "code",
   "execution_count": 13,
   "metadata": {},
   "outputs": [],
   "source": [
    "import matplotlib.pyplot as plt"
   ]
  },
  {
   "cell_type": "markdown",
   "metadata": {},
   "source": [
    "The price has a (very) **skewed distribution**, as shown in the exhibit below. "
   ]
  },
  {
   "cell_type": "code",
   "execution_count": 14,
   "metadata": {},
   "outputs": [
    {
     "data": {
      "image/png": "[encoded data removed]",
      "text/plain": [
       "<Figure size 432x432 with 1 Axes>"
      ]
     },
     "metadata": {
      "needs_background": "light"
     },
     "output_type": "display_data"
    }
   ],
   "source": [
    "df['price'].plot.hist(title='Figure 1. Actual price', figsize=(6,6), color='0.5')\n",
    "plt.xlabel('Actual price (thousands)')\n",
    "plt.show()"
   ]
  },
  {
   "cell_type": "markdown",
   "metadata": {},
   "source": [
    "The prediction error can be calculated as"
   ]
  },
  {
   "cell_type": "code",
   "execution_count": 15,
   "metadata": {},
   "outputs": [],
   "source": [
    "df['pred_error'] = df['price'] - df['pred_price']"
   ]
  },
  {
   "cell_type": "markdown",
   "metadata": {},
   "source": [
    "The histogram of the prediction error reveals very extreme values, although the distribution is reasonably symmetric."
   ]
  },
  {
   "cell_type": "code",
   "execution_count": 16,
   "metadata": {},
   "outputs": [
    {
     "data": {
      "image/png": "[encoded data removed]",
      "text/plain": [
       "<Figure size 432x432 with 1 Axes>"
      ]
     },
     "metadata": {
      "needs_background": "light"
     },
     "output_type": "display_data"
    }
   ],
   "source": [
    "df['pred_error'].plot.hist(title='Figure 2. Prediction error', figsize=(6,6), color='0.5')\n",
    "plt.xlabel('Prediction error (thousands)')\n",
    "plt.show()"
   ]
  },
  {
   "cell_type": "markdown",
   "metadata": {},
   "source": [
    "Scatter plots with the predicted values in the horizontal axis and either the actual values or the prediction errors in the vertical axis are useful to detect problems in the models fitted. I leave the discussion of this plot for the homework."
   ]
  },
  {
   "cell_type": "code",
   "execution_count": 17,
   "metadata": {},
   "outputs": [
    {
     "data": {
      "image/png": "[encoded data removed]",
      "text/plain": [
       "<Figure size 432x432 with 1 Axes>"
      ]
     },
     "metadata": {
      "needs_background": "light"
     },
     "output_type": "display_data"
    }
   ],
   "source": [
    "df.plot.scatter(x='pred_price', y='price', title='Figure 3. Actual vs predicted price',\n",
    "    figsize=(6,6), color='0.5', s=1)\n",
    "plt.xlabel('Predicted price (thousands)')\n",
    "plt.ylabel('Actual price (thousands)')\n",
    "plt.show()"
   ]
  }
 ],
 "metadata": {
  "kernelspec": {
   "display_name": "Python 3",
   "language": "python",
   "name": "python3"
  },
  "language_info": {
   "codemirror_mode": {
    "name": "ipython",
    "version": 3
   },
   "file_extension": ".py",
   "mimetype": "text/x-python",
   "name": "python",
   "nbconvert_exporter": "python",
   "pygments_lexer": "ipython3",
   "version": "3.6.6"
  }
 },
 "nbformat": 4,
 "nbformat_minor": 2
}
